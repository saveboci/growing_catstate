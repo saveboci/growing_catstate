{
 "cells": [
  {
   "cell_type": "code",
   "execution_count": null,
   "id": "baf97d9e",
   "metadata": {},
   "outputs": [],
   "source": [
    "#using Pkg; Pkg.add(\"Plots\")\n",
    "\n",
    "using ITensors\n",
    "using Plots\n",
    "using QuadGK # for 1D integrals\n",
    "        #example: quadgk(x -> exp(-x^2), 0, 1, rtol=1e-8)\n",
    "using LinearAlgebra\n",
    "using LaTeXStrings # L\"string\" to print \"string\" as latex\n",
    "#using LsqFit # for nonlinear fit https://julianlsolvers.github.io/LsqFit.jl/latest/tutorial/\n",
    "\n",
    "using Polynomials #there is a function `fit(xdata,ydata,polynomial_degree)` to do polynomial regression. \n",
    "                    #Source: https://www.geeksforgeeks.org/polynomial-regression-in-julia/\n",
    "using LsqFit #for nonlinear fits\n",
    "using Dates #to use the function now()\n",
    "#using HDF5 #to save weird objects\n",
    "using CSV\n",
    "using JLD2\n",
    "using DataFrames\n",
    "using Formatting #i'm using this to obtain a string from a float WITHOUT scientific notation"
   ]
  },
  {
   "cell_type": "code",
   "execution_count": null,
   "id": "9ef02ca5",
   "metadata": {},
   "outputs": [],
   "source": [
    "Threads.nthreads()"
   ]
  },
  {
   "cell_type": "markdown",
   "id": "1a82aa23",
   "metadata": {},
   "source": [
    "# Importing data"
   ]
  },
  {
   "cell_type": "markdown",
   "id": "704688af",
   "metadata": {},
   "source": [
    "In the following cell we define the evolution with the Hamiltonian\n",
    "\n",
    "$$ H = \\sum_{i=2}^{L-1}\n",
    "\\frac{1-\\sigma^z_i}{2} \\left(\n",
    "J_x\\sigma_{i-1}^x \\sigma^x_{i+1} + J_y\\sigma_{i-1}^y \\sigma^y_{i+1} + J_z\\sigma_{i-1}^z \\sigma^z_{i+1}\n",
    "   \\right)\n",
    "   - h \\sum_{i=1}^{L} \\sigma^z_i\n",
    " .$$\n",
    " \n",
    "I have the following options for the parameters:"
   ]
  },
  {
   "cell_type": "code",
   "execution_count": null,
   "id": "2396fd4a",
   "metadata": {},
   "outputs": [],
   "source": [
    "Jx = 0.7\n",
    "Jy = 0.14 # Jx/5\n",
    "Jz = 0.0\n",
    "h = 0.35 # Jx/2\n",
    "dt = 0.01;\n",
    "\n",
    "Ls = [40, 80, 160]\n",
    "bDs = [20, 40, 80, 160];"
   ]
  },
  {
   "cell_type": "code",
   "execution_count": null,
   "id": "c911cfe1",
   "metadata": {},
   "outputs": [],
   "source": [
    "# this is (one of) the integrable option: it corresponds to the dual XXZ chain\n",
    "# WARNING: for this set of parameters, the model is critical\n",
    "\n",
    "Jx = 0.7\n",
    "Jy = 0.0 \n",
    "Jz = 0.0\n",
    "h = 0.35 # Jx/2\n",
    "dt = 0.01;\n",
    "\n",
    "Ls = [40, 80, 160]\n",
    "bDs = [20, 40, 80, 160];"
   ]
  },
  {
   "cell_type": "code",
   "execution_count": null,
   "id": "aac781c1",
   "metadata": {},
   "outputs": [],
   "source": [
    "Jx = 0.7\n",
    "Jy = 0.14 # Jx/5\n",
    "Jz = 0.0\n",
    "h = 0.18 # Jx/4\n",
    "dt = 0.01;\n",
    "\n",
    "Ls = [40, 80, 160]\n",
    "bDs = [20, 40, 80, 160];"
   ]
  },
  {
   "cell_type": "code",
   "execution_count": null,
   "id": "df614589",
   "metadata": {},
   "outputs": [],
   "source": [
    "Jx = 0.7\n",
    "Jy = 0.18 #Jx/4\n",
    "Jz = 0.0\n",
    "h = 0.35\n",
    "dt = 0.01;\n",
    "\n",
    "Ls = [200]\n",
    "bDs = [190, 240];"
   ]
  },
  {
   "cell_type": "code",
   "execution_count": null,
   "id": "48600bdd",
   "metadata": {},
   "outputs": [],
   "source": [
    "# this is (one of) the integrable option: it corresponds to the dual XX chain\n",
    "# CHECKED THAT IT'S GOOD FOR CAT STATE\n",
    "#it's in the PAPER right now\n",
    "\n",
    "Jx = 0.7\n",
    "Jy = 0.0 \n",
    "Jz = 0.0\n",
    "h = 0.0\n",
    "dt = 0.01;\n",
    "\n",
    "Ls = [160]\n",
    "bDs = [240, 300];"
   ]
  },
  {
   "cell_type": "code",
   "execution_count": null,
   "id": "f9236b8c",
   "metadata": {},
   "outputs": [],
   "source": [
    "# this is (one of) the integrable option: it corresponds to the dual XXZ chain\n",
    "# CHECKED THAT IT'S GOOD FOR CAT STATE\n",
    "#it's in the PAPER right now\n",
    "\n",
    "Jx = 0.7\n",
    "Jy = 0.0\n",
    "Jz = 0.0\n",
    "h = 0.21\n",
    "dt = 0.01;\n",
    "\n",
    "Ls = [160]\n",
    "bDs = [160, 220];"
   ]
  },
  {
   "cell_type": "code",
   "execution_count": null,
   "id": "e8e9b1ef",
   "metadata": {},
   "outputs": [],
   "source": [
    "# CHECKED THAT IT'S GOOD FOR CAT STATE\n",
    "\n",
    "Jx = 0.7\n",
    "Jy = 0.14\n",
    "Jz = 0.0\n",
    "h = 0.21\n",
    "dt = 0.01;\n",
    "\n",
    "Ls = [160]\n",
    "bDs = [160, 220];"
   ]
  },
  {
   "cell_type": "code",
   "execution_count": null,
   "id": "d0255e91",
   "metadata": {},
   "outputs": [],
   "source": [
    "# CHECKED THAT IT'S GOOD FOR CAT STATE\n",
    "\n",
    "Jx = 0.7\n",
    "Jy = 0.28\n",
    "Jz = 0.0\n",
    "h = 0.0\n",
    "dt = 0.01;\n",
    "\n",
    "Ls = [100]\n",
    "bDs = [100, 160, 260, 400];"
   ]
  },
  {
   "cell_type": "code",
   "execution_count": null,
   "id": "e3d19d93",
   "metadata": {},
   "outputs": [],
   "source": [
    "Jx = 0.7\n",
    "Jy = 0.28\n",
    "Jz = 0.0\n",
    "h = 0.0\n",
    "dt = 0.01;\n",
    "\n",
    "Ls = [140]\n",
    "bDs = [200, 320, 500];"
   ]
  },
  {
   "cell_type": "code",
   "execution_count": null,
   "id": "6980f466",
   "metadata": {},
   "outputs": [],
   "source": [
    "Jx = 0.7\n",
    "Jy = 0.14\n",
    "Jz = 0.42\n",
    "h = 0.0\n",
    "dt = 0.01;\n",
    "\n",
    "Ls = [80]\n",
    "bDs = [140, 200];"
   ]
  },
  {
   "cell_type": "code",
   "execution_count": null,
   "id": "720f39a2",
   "metadata": {},
   "outputs": [],
   "source": [
    "# this is an extreme example with localised excitations\n",
    "Jx = 0.7\n",
    "Jy = 0.0\n",
    "Jz = 0.0\n",
    "h = 4.2\n",
    "dt = 0.01;\n",
    "\n",
    "Ls = [100]\n",
    "bDs = [100, 200];"
   ]
  },
  {
   "cell_type": "code",
   "execution_count": null,
   "id": "9e4b17d2",
   "metadata": {},
   "outputs": [],
   "source": [
    "# this is a milder example with localised excitations\n",
    "Jx = 0.7\n",
    "Jy = 0.0\n",
    "Jz = 0.0\n",
    "h = 1.4\n",
    "dt = 0.01;\n",
    "\n",
    "Ls = [100]\n",
    "bDs = [100, 200];"
   ]
  },
  {
   "cell_type": "markdown",
   "id": "86b98583",
   "metadata": {},
   "source": [
    "We'll construct the table\n",
    "\n",
    "|  | bD1 | bD2 | bD3 |\n",
    "| --- | --- | --- | ---|\n",
    "| **L1** | \n",
    "| **L2**\n",
    "| **L3**\n",
    "\n"
   ]
  },
  {
   "cell_type": "code",
   "execution_count": null,
   "id": "86980a71",
   "metadata": {
    "scrolled": false
   },
   "outputs": [],
   "source": [
    "tabb = [[[\"$(colons)\",\"$(rows)\"] for rows in bDs] for colons in Ls]"
   ]
  },
  {
   "cell_type": "code",
   "execution_count": null,
   "id": "918a9944",
   "metadata": {},
   "outputs": [],
   "source": [
    "# for laptop:\n",
    "base_path = \"/Users/saveriobocini/numerics_PhD/quantum_transistor/standard\";\n",
    "\n",
    "# for desktop\n",
    "#base_path = \"/home/sbocini/Numerics_LabDesktop/quantum_transistor/standard\";\n",
    "\n",
    "\n",
    "times = [\n",
    "    load(\"$(base_path)/L$(L)_Jx$(Jx)_Jy$(Jy)_Jz$(Jz)_h$(h)_BondDim$(bDs[1])_dt$(dt).jld2\"\n",
    "    , \"times\") for L in Ls\n",
    "];\n",
    "\n",
    "states = [\n",
    "    [\n",
    "        [\n",
    "            load(\"$(base_path)/L$(Ls[k])_Jx$(Jx)_Jy$(Jy)_Jz$(Jz)_h$(h)_BondDim$(bDs[j])_dt$(dt).jld2\"\n",
    "                , \"t$(round(times[k][i], digits=3))\")\n",
    "            for i=1:length(times[1])\n",
    "        ] for j=1:length(bDs)\n",
    "    ] for k=1:length(Ls)\n",
    "];"
   ]
  },
  {
   "cell_type": "markdown",
   "id": "6c18475d",
   "metadata": {},
   "source": [
    "# Observables definition"
   ]
  },
  {
   "cell_type": "markdown",
   "id": "d631b2e5",
   "metadata": {},
   "source": [
    "Here I define a function to compute the Hamiltonian density $\\frac{1-\\sigma^z_i}{2} \\left(\n",
    "J_x\\sigma_{i-1}^x \\sigma^x_{i+1} + J_y\\sigma_{i-1}^y \\sigma^y_{i+1} + J_z\\sigma_{i-1}^z \\sigma^z_{i+1}\n",
    "   \\right)\n",
    "   - h \\sigma^z_i$.\n",
    "It works for $i\\in\\{2,...,L-1\\}$."
   ]
  },
  {
   "cell_type": "code",
   "execution_count": null,
   "id": "5eb37cee",
   "metadata": {},
   "outputs": [],
   "source": [
    "function hamiltonian_density(state, i, jx=Jx, jy=Jy, jz=Jz, hh=h)\n",
    "    \n",
    "    if i==1 || i ==length(state) \n",
    "        throw(DomainError(i, \"Trying to go beyond boundaries.\"))\n",
    "    end\n",
    "    \n",
    "    orthogonalize!(state, i-1)\n",
    "    \n",
    "    op_site1 = jx * op(siteind(state, i-1), \"Sx\")\n",
    "    op_site2 = -2 * op(siteind(state, i), \"Sz\")\n",
    "    op_site3 = 2 * op(siteind(state, i+1), \"Sx\")\n",
    "    \n",
    "    C = state[i-1] #indices (link i-2) (link,i-1) (spin,i-1)\n",
    "          #this selects the (i-1)-th tensor of the (un-conjugated) state\n",
    "    C *= op_site1 #indices (link i-2) (link,i-1) (spin,i-1)'\n",
    "          #this applies the operator op_site1 to the site that we selected on the line above\n",
    "    ir = commonind(state[i-1], state[i]); \n",
    "    C *= dag(prime(prime(state[i-1], \"Site\"), ir)); \n",
    "    C *= state[i];\n",
    "    C *= dag(prime(state[i], \"Link\"));\n",
    "    C *= state[i+1];\n",
    "    C *=  op_site3;\n",
    "    il = commonind(state[i+1],state[i]);\n",
    "    C *=  dag(prime(prime(state[i+1], \"Site\"), il));\n",
    "    outpu = C[] \n",
    "    \n",
    "    C = state[i-1] #indices (link i-2) (link,i-1) (spin,i-1)\n",
    "          #this selects the (i-1)-th tensor of the (un-conjugated) state\n",
    "    C *= op_site1 #indices (link i-2) (link,i-1) (spin,i-1)'\n",
    "          #this applies the operator op_site1 to the site that we selected on the line above\n",
    "    ir = commonind(state[i-1], state[i]); \n",
    "    C *= dag(prime(prime(state[i-1], \"Site\"), ir)); \n",
    "    C *= state[i];\n",
    "    C *= op_site2\n",
    "    C *= dag(prime(prime(state[i], \"Site\"), \"Link\"));\n",
    "    C *= state[i+1];\n",
    "    C *=  op_site3;\n",
    "    il = commonind(state[i+1],state[i]);\n",
    "    C *=  dag(prime(prime(state[i+1], \"Site\"), il));\n",
    "    outpu += C[] \n",
    "    \n",
    "    op_site1 = jy * op(siteind(state, i-1), \"Sy\")\n",
    "    op_site2 = -2 * op(siteind(state, i), \"Sz\")\n",
    "    op_site3 = 2 * op(siteind(state, i+1), \"Sy\")\n",
    "    \n",
    "    C = state[i-1] #indices (link i-2) (link,i-1) (spin,i-1)\n",
    "          #this selects the (i-1)-th tensor of the (un-conjugated) state\n",
    "    C *= op_site1 #indices (link i-2) (link,i-1) (spin,i-1)'\n",
    "          #this applies the operator op_site1 to the site that we selected on the line above\n",
    "    ir = commonind(state[i-1], state[i]); \n",
    "    C *= dag(prime(prime(state[i-1], \"Site\"), ir)); \n",
    "    C *= state[i];\n",
    "    C *= dag(prime(state[i], \"Link\"));\n",
    "    C *= state[i+1];\n",
    "    C *=  op_site3;\n",
    "    il = commonind(state[i+1],state[i]);\n",
    "    C *=  dag(prime(prime(state[i+1], \"Site\"), il));\n",
    "    outpu += C[] \n",
    "    \n",
    "    C = state[i-1] #indices (link i-2) (link,i-1) (spin,i-1)\n",
    "          #this selects the (i-1)-th tensor of the (un-conjugated) state\n",
    "    C *= op_site1 #indices (link i-2) (link,i-1) (spin,i-1)'\n",
    "          #this applies the operator op_site1 to the site that we selected on the line above\n",
    "    ir = commonind(state[i-1], state[i]); \n",
    "    C *= dag(prime(prime(state[i-1], \"Site\"), ir)); \n",
    "    C *= state[i];\n",
    "    C *= op_site2\n",
    "    C *= dag(prime(prime(state[i], \"Site\"), \"Link\"));\n",
    "    C *= state[i+1];\n",
    "    C *=  op_site3;\n",
    "    il = commonind(state[i+1],state[i]);\n",
    "    C *=  dag(prime(prime(state[i+1], \"Site\"), il));\n",
    "    outpu += C[] \n",
    "    \n",
    "    op_site1 = jz * op(siteind(state, i-1), \"Sz\")\n",
    "    op_site2 = -2 * op(siteind(state, i), \"Sz\")\n",
    "    op_site3 = 2 * op(siteind(state, i+1), \"Sz\")\n",
    "    \n",
    "    C = state[i-1] #indices (link i-2) (link,i-1) (spin,i-1)\n",
    "          #this selects the (i-1)-th tensor of the (un-conjugated) state\n",
    "    C *= op_site1 #indices (link i-2) (link,i-1) (spin,i-1)'\n",
    "          #this applies the operator op_site1 to the site that we selected on the line above\n",
    "    ir = commonind(state[i-1], state[i]); \n",
    "    C *= dag(prime(prime(state[i-1], \"Site\"), ir)); \n",
    "    C *= state[i];\n",
    "    C *= dag(prime(state[i], \"Link\"));\n",
    "    C *= state[i+1];\n",
    "    C *=  op_site3;\n",
    "    il = commonind(state[i+1],state[i]);\n",
    "    C *=  dag(prime(prime(state[i+1], \"Site\"), il));\n",
    "    outpu += C[] \n",
    "    \n",
    "    C = state[i-1] #indices (link i-2) (link,i-1) (spin,i-1)\n",
    "          #this selects the (i-1)-th tensor of the (un-conjugated) state\n",
    "    C *= op_site1 #indices (link i-2) (link,i-1) (spin,i-1)'\n",
    "          #this applies the operator op_site1 to the site that we selected on the line above\n",
    "    ir = commonind(state[i-1], state[i]); \n",
    "    C *= dag(prime(prime(state[i-1], \"Site\"), ir)); \n",
    "    C *= state[i];\n",
    "    C *= op_site2\n",
    "    C *= dag(prime(prime(state[i], \"Site\"), \"Link\"));\n",
    "    C *= state[i+1];\n",
    "    C *=  op_site3;\n",
    "    il = commonind(state[i+1],state[i]);\n",
    "    C *=  dag(prime(prime(state[i+1], \"Site\"), il));\n",
    "    outpu += C[] \n",
    "    \n",
    "    outpu += -2hh * expect(state, \"Sz\", sites=i)\n",
    "end"
   ]
  },
  {
   "cell_type": "code",
   "execution_count": null,
   "id": "e01da3da",
   "metadata": {},
   "outputs": [],
   "source": [
    "function edge_energy(state)\n",
    "    -2h * sum(expect(state, \"Sz\", sites = [1,length(state)]))\n",
    "end"
   ]
  },
  {
   "cell_type": "code",
   "execution_count": null,
   "id": "ac56afc4",
   "metadata": {},
   "outputs": [],
   "source": [
    "function SvN_of_half_chain(state)\n",
    "    L = length(state)\n",
    "    b = div(L,2)\n",
    "    orthogonalize!(state, b)\n",
    "    U,S,V = svd(state[b], (linkind(state, b), siteind(state,b+1)))\n",
    "    SvN = 0.0\n",
    "    for n=1:dim(S, 1)\n",
    "      p = S[n,n]^2\n",
    "      SvN -= p * log(p)\n",
    "    end\n",
    "    SvN\n",
    "end\n",
    "    "
   ]
  },
  {
   "cell_type": "code",
   "execution_count": null,
   "id": "8522717b",
   "metadata": {},
   "outputs": [],
   "source": [
    "#the funciton SvN_of_half_chain is a special case of the following function\n",
    "\n",
    "function bipartite_entropy(state, b)\n",
    "    L = length(state)\n",
    "\n",
    "    if b < 1 || b > L-1\n",
    "        throw(DomainError(b, \"Trying to go beyond boundaries.\"))\n",
    "    end\n",
    "    \n",
    "    orthogonalize!(state, b)\n",
    "    U,S,V = svd(state[b], (linkind(state, b), siteind(state,b+1)))\n",
    "    SvN = 0.0\n",
    "    for n=1:dim(S, 1)\n",
    "      p = S[n,n]^2\n",
    "      SvN -= p * log(p)\n",
    "    end\n",
    "    SvN\n",
    "end\n",
    "    "
   ]
  },
  {
   "cell_type": "code",
   "execution_count": null,
   "id": "b9592be3",
   "metadata": {},
   "outputs": [],
   "source": [
    "function max_schm_vals(state)\n",
    "    outpu = Float64[]\n",
    "    for b = 2:length(state)-1\n",
    "        orthogonalize!(state, b)\n",
    "        U,S,V = svd(state[b], (linkind(state, b-1), siteind(state,b)))\n",
    "        push!(outpu, S[1,1])\n",
    "    end\n",
    "    outpu.^2\n",
    "end"
   ]
  },
  {
   "cell_type": "code",
   "execution_count": null,
   "id": "fe1336b3",
   "metadata": {},
   "outputs": [],
   "source": [
    "function nonpurity_length(schmv, precisio=0.977)\n",
    "    i = 0\n",
    "    for sv in schmv\n",
    "        if sv < precisio\n",
    "            i += 1\n",
    "        end\n",
    "    end\n",
    "    i\n",
    "end"
   ]
  },
  {
   "cell_type": "code",
   "execution_count": null,
   "id": "f6b6aa49",
   "metadata": {},
   "outputs": [],
   "source": [
    "function H_tobeapplied(state)\n",
    "    \n",
    "    siti = siteinds(state)\n",
    "    LL = length(state)\n",
    "    \n",
    "    ampo = AutoMPO()\n",
    "    for j=2:LL-1\n",
    "        ampo += 2Jx, \"Sx\",j-1, \"Sx\",j+1\n",
    "        ampo += -4Jx, \"Sx\",j-1, \"Sz\",j, \"Sx\",j+1\n",
    "        ampo += 2Jy, \"Sy\",j-1, \"Sy\",j+1\n",
    "        ampo += -4Jy, \"Sy\",j-1, \"Sz\",j, \"Sy\",j+1\n",
    "        ampo += 2Jz, \"Sz\",j-1, \"Sz\",j+1\n",
    "        ampo += -4Jz, \"Sz\",j-1, \"Sz\",j, \"Sz\",j+1\n",
    "        ampo += -2h, \"Sz\",j\n",
    "    end\n",
    "    ampo += -2h, \"Sz\",1\n",
    "    ampo += -2h, \"Sz\",LL\n",
    "    \n",
    "    MPO(ampo, siti)\n",
    "end"
   ]
  },
  {
   "cell_type": "code",
   "execution_count": null,
   "id": "a47aa135",
   "metadata": {},
   "outputs": [],
   "source": [
    "function XXcorr(GS,m,n)\n",
    "# gives the spinX-spinX correlation function\n",
    "    \n",
    "    if m>n \n",
    "        throw(DomainError(n-m, \"difference between boundaries must be nonnegative\"))\n",
    "    end\n",
    "    \n",
    "    orthogonalize!(GS,m)\n",
    "    \n",
    "    Sx_m = op(siteind(GS,m),\"Sx\")\n",
    "    Sx_n = op(siteind(GS,n),\"Sx\")\n",
    "    \n",
    "    C = GS[m] #indices (link m-1) (link,m) (spin,m)\n",
    "          #this selects the m-th tensor of the (un-conjugated) state\n",
    "    C *= Sx_m #indices (link m-1) (link,m) (spin,m)'\n",
    "          #this applies the operator Sz_m to the site that we selected on the line above\n",
    "    \n",
    "    ir = commonind(GS[m],GS[m+1]); \n",
    "    C *= dag(prime(prime(GS[m],\"Site\"),ir)); \n",
    "    \n",
    "    for j in m+1:n-1\n",
    "        C *= GS[j];\n",
    "        C *= dag(prime(GS[j],\"Link\"));\n",
    "       # print(C)\n",
    "    end\n",
    "    \n",
    "    C *= GS[n];\n",
    "\n",
    "    C *=  Sx_n;\n",
    "    \n",
    "    il = commonind(GS[n],GS[n-1]);\n",
    "    C *=  dag(prime(prime(GS[n],\"Site\"),il));\n",
    "        \n",
    "    C[] \n",
    "end;"
   ]
  },
  {
   "cell_type": "markdown",
   "id": "9b0ff58f",
   "metadata": {},
   "source": [
    "# Entanglement considerations"
   ]
  },
  {
   "cell_type": "markdown",
   "id": "d5abfbcc",
   "metadata": {},
   "source": [
    "\n",
    "## Entanglement growth between the two half chains"
   ]
  },
  {
   "cell_type": "code",
   "execution_count": null,
   "id": "53ad0636",
   "metadata": {},
   "outputs": [],
   "source": [
    "entropies = [\n",
    "    [\n",
    "        [\n",
    "            SvN_of_half_chain(states[k][j][i])\n",
    "            for i=1:length(times[1])\n",
    "        ] for j=1:length(bDs)\n",
    "    ] for k=1:length(Ls)\n",
    "];"
   ]
  },
  {
   "cell_type": "code",
   "execution_count": null,
   "id": "a7fbef7b",
   "metadata": {},
   "outputs": [],
   "source": [
    "elle = length(Ls)\n",
    "\n",
    "start = 1\n",
    "finish = 7\n",
    "\n",
    "lege = reshape([\"L = $(Ls[elle]), bD = $(bDs[i])\" for i=1:length(bDs)], (1, length(bDs)))\n",
    "\n",
    "scatter(times[elle][start:finish], [exp.(entropies[elle][j][start:finish]) for j=1:length(bDs)]\n",
    "    , label = lege\n",
    "    , legend = :topleft\n",
    "    , title = \"fixed length, varying bond dimension\"\n",
    "    , ylabel = L\"e^S\"\n",
    "    , xlabel = L\"t\"\n",
    ")\n",
    "\n"
   ]
  },
  {
   "cell_type": "code",
   "execution_count": null,
   "id": "c2f6d855",
   "metadata": {},
   "outputs": [],
   "source": [
    "#savefig(\"./img/FIGentropy_TransistorNonint2.pdf\")\n",
    "#savefig(\"./img/FIGentropy_TransistorInt2.pdf\")\n",
    "#savefig(\"./img/FIGentropy_DualXX.pdf\")"
   ]
  },
  {
   "cell_type": "code",
   "execution_count": null,
   "id": "f357741d",
   "metadata": {},
   "outputs": [],
   "source": [
    "reliable_timestep = 13\n",
    "times[end][reliable_timestep]"
   ]
  },
  {
   "cell_type": "code",
   "execution_count": null,
   "id": "9cc7fb2b",
   "metadata": {},
   "outputs": [],
   "source": [
    "bonddim = length(bDs)\n",
    "lege = reshape([\"L = $(Ls[i]), bD = $(bDs[bonddim])\" for i=1:length(Ls)], (1, length(Ls)))\n",
    "scatter(times, [exp.(entropies[k][bonddim]) for k=1:length(Ls)]\n",
    "    , label = lege\n",
    "    , legend = :bottomright\n",
    "    , title = \"fixed bond dimension, varying length\"\n",
    "    , ylabel = L\"e^S\"\n",
    "    , xlabel = L\"t\"\n",
    ")\n",
    "\n"
   ]
  },
  {
   "cell_type": "markdown",
   "id": "ba9e9610",
   "metadata": {},
   "source": [
    "## Schmidt values"
   ]
  },
  {
   "cell_type": "markdown",
   "id": "e9ed582d",
   "metadata": {},
   "source": [
    "This is probably needed to decide where to cut the state"
   ]
  },
  {
   "cell_type": "code",
   "execution_count": null,
   "id": "01a8d347",
   "metadata": {},
   "outputs": [],
   "source": [
    "elle = length(Ls)\n",
    "max_schm_values = max_schm_vals.(states[elle][end]);"
   ]
  },
  {
   "cell_type": "code",
   "execution_count": null,
   "id": "87f8358c",
   "metadata": {},
   "outputs": [],
   "source": [
    "start = 1\n",
    "finish = 13\n",
    "lege = reshape([\"t = $(round(times[elle][i], digits=2))\" for i=start:finish], (1, finish-start+1))\n",
    "\n",
    "plot(\n",
    "    [[l+.5 for l=2-Ls[elle]/2:Ls[elle]/2-1] for t in times[elle]][start:finish], max_schm_values, xlabel = L\"\\ell\"\n",
    "    #[[(l+.5)/t for l=1-Ls[elle]/2:Ls[elle]/2-1] for t in times[elle]][start:finish], max_schm_values, xrange = (-1,1), xlabel = L\"\\ell/t\"\n",
    "    #[[(l+.5)/sqrt(t) for l=1-Ls[elle]/2:Ls[elle]/2-1] for t in times[elle]][start:finish], max_schm_values, xrange = (-4,4), xlabel = L\"\\ell/\\sqrt{t}\"\n",
    "    , yrange = (findmin(max_schm_values[end])[1]-.1, 0.977)\n",
    "    , label = lege\n",
    ")"
   ]
  },
  {
   "cell_type": "code",
   "execution_count": null,
   "id": "a28dc133",
   "metadata": {},
   "outputs": [],
   "source": [
    "elle = length(Ls)\n",
    "bonddim = length(bDs)\n",
    "\n",
    "max_schm_values = max_schm_vals.(states[elle][bonddim]);"
   ]
  },
  {
   "cell_type": "code",
   "execution_count": null,
   "id": "94e44a24",
   "metadata": {},
   "outputs": [],
   "source": [
    "nnpursize = nonpurity_length.(max_schm_values)\n",
    "scatter(times[elle], nnpursize, legend = :bottomright)"
   ]
  },
  {
   "cell_type": "markdown",
   "id": "8f23a321",
   "metadata": {},
   "source": [
    "## Entropy for each link"
   ]
  },
  {
   "cell_type": "code",
   "execution_count": null,
   "id": "f9ce2d2b",
   "metadata": {},
   "outputs": [],
   "source": [
    "elle = length(Ls)\n",
    "bonddim = length(bDs)\n",
    "\n",
    "etrps = [\n",
    "    [\n",
    "        bipartite_entropy(states[elle][bonddim][tt], b) for b = 1:Ls[elle]-1\n",
    "    ]\n",
    "    for tt = 1:length(times[elle])];\n",
    "\n"
   ]
  },
  {
   "cell_type": "code",
   "execution_count": null,
   "id": "9b0c15fb",
   "metadata": {},
   "outputs": [],
   "source": [
    "start = 4\n",
    "lege = reshape([\"t = $(round(times[elle][i], digits=2))\" for i=start:length(times[elle])], (1,length(times[elle])-start+1))\n",
    "\n",
    "scatter(etrps[start:end]\n",
    "    , label = lege\n",
    "    , xlabel = L\"\\ell\"\n",
    "    , ylabel = L\"S_\\ell\"\n",
    ")"
   ]
  },
  {
   "cell_type": "code",
   "execution_count": null,
   "id": "e9921e18",
   "metadata": {},
   "outputs": [],
   "source": [
    "which_model = \"quantum_transistor_L$(Ls[end])_Jx$(Jx)_Jy$(Jy)_Jz$(Jz)_h$(h)\"\n",
    "\n",
    "# for laptop:\n",
    "#wheretosave = \"/Users/saveriobocini/numericsvqegrvwefvistics/$(which_model)\";\n",
    "wheretosave = \"/Users/saveriobocini/Desktop/$(which_model)\";\n",
    "\n",
    "# for desktop\n",
    "#wheretosave = \"/home/sbocini/Numerics_LabDesktop/full_counted_statistics/$(which_model)\";\n",
    "\n",
    "df = DataFrame([etrps[i][j] for j=1:length(etrps[1]), i=1:length(etrps)], :auto)\n",
    "rename!(df, Symbol.(times[elle]))\n",
    "#save(\"$(wheretosave)_dt$(dt)_bD$(bDs[bonddim]).csv\", df)"
   ]
  },
  {
   "cell_type": "markdown",
   "id": "d64a8690",
   "metadata": {},
   "source": [
    "# Energy-related considerations"
   ]
  },
  {
   "cell_type": "markdown",
   "id": "03d45728",
   "metadata": {},
   "source": [
    "## Energy density"
   ]
  },
  {
   "cell_type": "code",
   "execution_count": null,
   "id": "95d51228",
   "metadata": {},
   "outputs": [],
   "source": [
    "energy_densities = [\n",
    "    [\n",
    "        [\n",
    "            [hamiltonian_density(states[k][j][i], sito) for sito=2:length(states[k][j][i])-1]\n",
    "            for i=1:length(times[1])\n",
    "        ] for j=1:length(bDs)\n",
    "    ] for k=1:length(Ls)\n",
    "];"
   ]
  },
  {
   "cell_type": "code",
   "execution_count": null,
   "id": "eba3b4ef",
   "metadata": {},
   "outputs": [],
   "source": [
    "elle = length(Ls)\n",
    "bonddim = length(bDs)\n",
    "start = 6\n",
    "lege = reshape([\"t = $(round(times[elle][i], digits=2))\" for i=start:length(times[elle])], (1,length(times[elle])-start+1))\n",
    "\n",
    "plot(\n",
    "    [[l/t for l=2-Ls[elle]/2:Ls[elle]/2-1] for t in times[elle]][start:end], \n",
    "    real.(energy_densities[elle][bonddim])[start:end]\n",
    "    , label = lege\n",
    "    , xrange  = (-3,3)\n",
    "    , xlabel = L\"\\ell/t\"\n",
    "    , ylabel = L\"<h_\\ell>_t\"\n",
    "    , title = \"L = $(Ls[elle]), bD = $(bDs[bonddim])\"\n",
    ")"
   ]
  },
  {
   "cell_type": "markdown",
   "id": "44cf4998",
   "metadata": {},
   "source": [
    "## Total energy"
   ]
  },
  {
   "cell_type": "markdown",
   "id": "92751a92",
   "metadata": {},
   "source": [
    "$H=\\sum_\\alpha \\sum_{\\ell}\\sum_{r=1} J_r^\\alpha \\sigma_\\ell^\\alpha\\sigma_{\\ell+r}^\\alpha +h\\sum_\\ell\\sigma_\\ell^z\n",
    "$"
   ]
  },
  {
   "cell_type": "code",
   "execution_count": null,
   "id": "70807cdd",
   "metadata": {},
   "outputs": [],
   "source": [
    "energy_total = [\n",
    "    [\n",
    "        [\n",
    "            sum(energy_densities[k][j][i]) + edge_energy(states[k][j][i])\n",
    "            for i=1:length(times[1])\n",
    "        ] for j=1:length(bDs)\n",
    "    ] for k=1:length(Ls)\n",
    "];"
   ]
  },
  {
   "cell_type": "code",
   "execution_count": null,
   "id": "b104a0d2",
   "metadata": {
    "scrolled": false
   },
   "outputs": [],
   "source": [
    "elle = length(Ls)\n",
    "\n",
    "siti = siteinds(\"S=1/2\", Ls[elle]);\n",
    "state_all_up = productMPS(siti, n -> \"Up\");\n",
    "psi0 = apply(2 * op(\"Sx\", siti[div(Ls[elle],2)]), state_all_up);\n",
    "profile0 = real.([hamiltonian_density(psi0, i) for i=2:Ls[elle]-1])\n",
    "en0 = sum(profile0) + edge_energy(psi0)\n",
    "\n",
    "lege = reshape([\"L = $(Ls[elle]), bD = $(bDs[i])\" for i=1:length(bDs)], (1, length(bDs)))\n",
    "\n",
    "scatter(times[elle], [real.(energy_total[elle][j]) .- en0 for j=1:length(bDs)] \n",
    "    , label = lege\n",
    "    , legend = :topleft\n",
    "    , title = \"fixed length, varying bond dimension\"\n",
    "    , xlabel = L\"t\"\n",
    "    , ylabel = L\"<H>_t - <H>_0\"\n",
    ")\n",
    "\n"
   ]
  },
  {
   "cell_type": "markdown",
   "id": "df405d70",
   "metadata": {},
   "source": [
    "# Magnetization"
   ]
  },
  {
   "cell_type": "markdown",
   "id": "b16fa1e4",
   "metadata": {},
   "source": [
    "## standard (local magn) profile"
   ]
  },
  {
   "cell_type": "code",
   "execution_count": null,
   "id": "0878293e",
   "metadata": {},
   "outputs": [],
   "source": [
    "magnetizations = [\n",
    "    [\n",
    "        [\n",
    "            expect(states[k][j][i], \"Sz\")\n",
    "            for i=1:length(times[1])\n",
    "        ] for j=1:length(bDs)\n",
    "    ] for k=1:length(Ls)\n",
    "];"
   ]
  },
  {
   "cell_type": "code",
   "execution_count": null,
   "id": "3a04f9dd",
   "metadata": {},
   "outputs": [],
   "source": [
    "elle = length(Ls)\n",
    "bonddim = length(bDs)\n",
    "start = 8\n",
    "finish = 13\n",
    "lege = reshape([L\"t =\" * \"$(round(times[elle][i], digits=2))\" for i=start:finish], (1,finish-start+1))\n",
    "\n",
    "plot(\n",
    "    #[[l for l=1-Ls[elle]/2:Ls[elle]/2] for t in times[elle]][start:finish], 2 .* real.(magnetizations[elle][bonddim])[start:finish], xlabel = L\"\\ell\"\n",
    "    [[l/t for l=1-Ls[elle]/2:Ls[elle]/2] for t in times[elle]][start:finish], 2 .* real.(magnetizations[elle][bonddim])[start:finish], xlabel = L\"\\ell/t\", xrange  = (-2,2)\n",
    "    #[[l/sqrt(t) for l=1-Ls[elle]/2:Ls[elle]/2] for t in times[elle]][start:finish], real.(magnetizations[elle][bonddim])[start:finish], xlabel = L\"\\ell/\\sqrt{t}\", xrange  = (-7,7)\n",
    "    , label = lege\n",
    "    , ylabel = L\"\\langle\\Psi_{\\pi/2}(t)|\\sigma^z_\\ell|\\Psi_{\\pi/2}(t)\\rangle\"\n",
    "    , legend = :bottomright\n",
    "    #, title = \"L = $(Ls[elle]), bD = $(bDs[bonddim])\"\n",
    "    #, markersize = 9.0\n",
    "    , xtickfontsize = 14\n",
    "    , ytickfontsize = 14\n",
    "    , xguidefontsize = 16\n",
    "    , yguidefontsize = 16\n",
    "    , legendfontsize = 12\n",
    ")"
   ]
  },
  {
   "cell_type": "code",
   "execution_count": null,
   "id": "bd4ecfcc",
   "metadata": {},
   "outputs": [],
   "source": [
    "[L\"t =\" * \"$(round(times[elle][i], digits=2))\" for i=start:3:finish]"
   ]
  },
  {
   "cell_type": "code",
   "execution_count": null,
   "id": "418d0a6f",
   "metadata": {},
   "outputs": [],
   "source": [
    "elle = length(Ls)\n",
    "bonddim = length(bDs)\n",
    "start = 2\n",
    "finish = 13\n",
    "lege = reshape([L\"t =\" * \"$(round(times[elle][i], digits=2))\" for i=start:3:finish], (1,div(finish-start+1,3)))\n",
    "\n",
    "scatter(\n",
    "    [[l for l=1-Ls[elle]/2:Ls[elle]/2] for t in times[elle]][start:3:finish], 2 .* real.(magnetizations[elle][bonddim])[start:3:finish], xlabel = L\"\\ell\"\n",
    "    #[[l/t for l=1-Ls[elle]/2:Ls[elle]/2] for t in times[elle]][start:finish], 2 .* real.(magnetizations[elle][bonddim])[start:finish], xlabel = L\"\\ell/t\"\n",
    "    #[[l/sqrt(t) for l=1-Ls[elle]/2:Ls[elle]/2] for t in times[elle]][start:finish], real.(magnetizations[elle][bonddim])[start:finish], xlabel = L\"\\ell/\\sqrt{t}\", xrange  = (-7,7)\n",
    "    , label = lege\n",
    "    , ylabel = L\"\\langle\\Psi_{\\pi/2}(t)|\\sigma^z_\\ell|\\Psi_{\\pi/2}(t)\\rangle\"\n",
    "    , legend = :bottomright\n",
    "    #, title = \"L = $(Ls[elle]), bD = $(bDs[bonddim])\"\n",
    "    #, markersize = 9.0\n",
    "    , xtickfontsize = 14\n",
    "    , ytickfontsize = 14\n",
    "    , xguidefontsize = 16\n",
    "    , yguidefontsize = 16\n",
    "    , legendfontsize = 12\n",
    "    , xrange  = (-11,11)\n",
    "    , markersize = 6\n",
    ")"
   ]
  },
  {
   "cell_type": "code",
   "execution_count": null,
   "id": "3433447c",
   "metadata": {},
   "outputs": [],
   "source": [
    "#savefig(\"img/paper_magnetization_spike.pdf\")"
   ]
  },
  {
   "cell_type": "markdown",
   "id": "c4ba08e5",
   "metadata": {},
   "source": [
    "## Total magnetization"
   ]
  },
  {
   "cell_type": "markdown",
   "id": "498d7190",
   "metadata": {},
   "source": [
    "This is one of the most useful plots to understand if the behavior of the profile is ballistic or diffusive."
   ]
  },
  {
   "cell_type": "code",
   "execution_count": null,
   "id": "8452227f",
   "metadata": {},
   "outputs": [],
   "source": [
    "magns_tot = [[\n",
    "        [\n",
    "            sum(magnetizations[k][j][i])\n",
    "            for i=1:length(times[1])\n",
    "        ] for j=1:length(bDs)\n",
    "    ] for k=1:length(Ls)\n",
    "];"
   ]
  },
  {
   "cell_type": "code",
   "execution_count": null,
   "id": "6578530d",
   "metadata": {},
   "outputs": [],
   "source": [
    "elle = length(Ls)\n",
    "bonddim = length(bDs)\n",
    "start = 1\n",
    "finish = 13\n",
    "lege = reshape([\"L = $(Ls[elle]), bD = $(bDs[i])\" for i=1:length(bDs)], (1, length(bDs)))\n",
    "\n",
    "scatter(times[elle][start:finish], \n",
    "    [(div(Ls[elle], 2) ) .- magns_tot[elle][bd][start:finish] for bd=1:length(bDs)]\n",
    "    , legend = :bottomright\n",
    "    , xlabel = L\"t\"\n",
    "    #, ylabel = L\"\\langle\\Uparrow| \\mathbf{ S}^z|\\Uparrow\\rangle - \\langle \\Psi_{\\frac{\\pi}{2}}(t)|\\mathbf{S}^z|\\Psi_{\\frac{\\pi}{2}}(t)\\rangle\"\n",
    "    , ylabel = L\"\\Delta\\mathbf{S}^z(\\pi/2)\"\n",
    "    #, label = lege\n",
    "    , label = \"\"\n",
    "    , xtickfontsize = 14\n",
    "    , ytickfontsize = 14\n",
    "    , xguidefontsize = 16\n",
    "    , yguidefontsize = 16\n",
    "    , legendfontsize = 12\n",
    "    , margins = 5Plots.mm\n",
    ")\n",
    "\n",
    "\n",
    "elle = length(Ls)\n",
    "bonddim = length(bDs)\n",
    "start = 8\n",
    "finish = 13\n",
    "lege = reshape([L\"t =\" * \"$(round(times[elle][i], digits=1))\" for i=start:2:finish], (1,div(finish-start+1,2)))\n",
    "\n",
    "# The call for instets is `bbox(x, y, width, height, origin...)`, \n",
    "# where numbers are treated as \"percent of parent\".\n",
    "# For some reason I need to specify how many plots there are.\n",
    "plot!(\n",
    "    #[[l for l=1-Ls[elle]/2:Ls[elle]/2] for t in times[elle]][start:finish], 2 .* real.(magnetizations[elle][bonddim])[start:finish], xlabel = L\"\\ell\"\n",
    "    [[l/t for l=1-Ls[elle]/2:Ls[elle]/2] for t in times[elle]][start:2:finish], 2 .* real.(magnetizations[elle][bonddim])[start:2:finish], xrange  = (-2,2), xlabel = L\"\\ell/t\"\n",
    "    #[[l/sqrt(t) for l=1-Ls[elle]/2:Ls[elle]/2] for t in times[elle]][start:finish], real.(magnetizations[elle][bonddim])[start:finish], xlabel = L\"\\ell/\\sqrt{t}\", xrange  = (-7,7)\n",
    "    #, label = lege\n",
    "    , label = \"\"\n",
    "    , ylabel = L\"\\langle\\sigma^z_\\ell(t)\\rangle\"\n",
    "    , legend = :outerright\n",
    "    , inset = (1, bbox(-0.07, 0.1, 0.56, 0.455, :bottom, :right))\n",
    "    , subplot = 2\n",
    "    , xticks = ([],[L\"-2\", L\"-1\", L\"0\", L\"1\", L\"2\"])\n",
    "    , yticks = ([],[L\"0.0\", L\"0.5\", L\"1.0\"])\n",
    "    , xmirror = :true\n",
    "    , xguidefontsize = 14\n",
    "    , yguidefontsize = 14\n",
    ")\n",
    "plot!(\n",
    "    #[[l for l=1-Ls[elle]/2:Ls[elle]/2] for t in times[elle]][start:finish], 2 .* real.(magnetizations[elle][bonddim])[start:finish], xlabel = L\"\\ell\"\n",
    "    [[l/t for l=1-Ls[elle]/2:Ls[elle]/2] for t in times[elle]][start:2:finish], 2 .* real.(magnetizations[elle][bonddim])[start:2:finish], xrange  = (-2,2)#, xlabel = L\"\\ell/t\"\n",
    "    #[[l/sqrt(t) for l=1-Ls[elle]/2:Ls[elle]/2] for t in times[elle]][start:finish], real.(magnetizations[elle][bonddim])[start:finish], xlabel = L\"\\ell/\\sqrt{t}\", xrange  = (-7,7)\n",
    "    #, label = lege\n",
    "    , label = \"\"\n",
    "    , legend = :outerright\n",
    "    , inset = (1, bbox(-0.07, 0.1, 0.56, 0.455, :bottom, :right))\n",
    "    , subplot = 3\n",
    "    , xticks = ([-2, -1, 0, 1, 2],[L\"-2\", L\"-1\", L\"0\", L\"1\", L\"2\"])\n",
    "    , yticks = ([0, 0.5, 1],[L\"0.0\", L\"0.5\", L\"1.0\"])\n",
    "    , xtickfontsize = 13\n",
    "    , ytickfontsize = 13\n",
    "    , box = :on\n",
    "    , ymirror = :true\n",
    ")\n"
   ]
  },
  {
   "cell_type": "code",
   "execution_count": null,
   "id": "da79e07c",
   "metadata": {},
   "outputs": [],
   "source": [
    "#savefig(\"./img/paper_magn_dualXX.pdf\")"
   ]
  },
  {
   "cell_type": "markdown",
   "id": "2f66c88e",
   "metadata": {},
   "source": [
    "## Localized peak"
   ]
  },
  {
   "cell_type": "code",
   "execution_count": null,
   "id": "d464457d",
   "metadata": {},
   "outputs": [],
   "source": [
    "elle = length(Ls)\n",
    "bonddim = length(bDs)\n",
    "start = 6\n",
    "lege = reshape([\"t = $(round(times[elle][i], digits=2))\" for i=start:length(times[elle])], (1,length(times[elle])-start+1))\n",
    "\n",
    "plot(\n",
    "    [l for l=1-Ls[elle]/2:Ls[elle]/2], \n",
    "    real.(magnetizations[elle][bonddim])[start:end]\n",
    "    , label = lege\n",
    "    , xrange  = (-15,15)\n",
    "    , xlabel = L\"\\ell\"\n",
    "    , ylabel = L\"<S^z_\\ell>_t\"\n",
    "    , title = \"peak for L = $(Ls[elle]) and bD = $(bDs[bonddim])\"\n",
    "    , legend = :bottomright\n",
    ")"
   ]
  },
  {
   "cell_type": "code",
   "execution_count": null,
   "id": "00184daf",
   "metadata": {},
   "outputs": [],
   "source": [
    "bonddim = length(bDs)\n",
    "start = 6\n",
    "plot(\n",
    "    [[l for l=1-Ls[elle]/2:Ls[elle]/2] for elle=1:length(Ls)], \n",
    "    [real.(magnetizations[elle][bonddim][end]) for elle=1:length(Ls)]\n",
    "    , label = reshape([\"L = $(Ls[i]), t = $(round(times[i][end]))\" for i=1:length(Ls)], (1,length(Ls)))\n",
    "    , xrange  = (-15,15)\n",
    "    , xlabel = L\"\\ell\"\n",
    "    , ylabel = L\"<S^z_\\ell>_t\"\n",
    "    , title = \"maximal time for each different size\"\n",
    "    , legend = :bottomright\n",
    ")"
   ]
  },
  {
   "cell_type": "markdown",
   "id": "c84adda3",
   "metadata": {},
   "source": [
    "# Variance-Covariance Matrix"
   ]
  },
  {
   "cell_type": "code",
   "execution_count": null,
   "id": "11ae25d2",
   "metadata": {},
   "outputs": [],
   "source": [
    "# Variance-covariance matrix\n",
    "\n",
    "function VCM(state)\n",
    "    LL = length(state)\n",
    "    outpu = zeros(ComplexF64, 3LL,3LL)\n",
    "    \n",
    "    paulis = [\"Sx\",\"Sy\",\"Sz\"]\n",
    "    \n",
    "    sigmaexp = [expect(state, σp) for σp in paulis]\n",
    "    \n",
    "    for (ii, ope1)=enumerate(paulis),  (jj, ope2)=enumerate(paulis)\n",
    "        provisory = correlation_matrix(state, ope1, ope2)\n",
    "        for i=1:LL, j=1:LL\n",
    "            outpu[LL*(ii-1) + i, LL*(jj-1) + j] = 4*provisory[i,j] - 4*sigmaexp[ii][i]*sigmaexp[jj][j]\n",
    "        end\n",
    "    end\n",
    "    \n",
    "    outpu\n",
    "end"
   ]
  },
  {
   "cell_type": "markdown",
   "id": "c4f60c2e",
   "metadata": {},
   "source": [
    "## Flip case"
   ]
  },
  {
   "cell_type": "code",
   "execution_count": null,
   "id": "ddf7e1e1",
   "metadata": {},
   "outputs": [],
   "source": [
    "elle = 2\n",
    "bonddim = 3\n",
    "\n",
    "for tt in 1:length(times[elle])\n",
    "    mymat = format.(real.(VCM(states[elle][bonddim][tt])), precision=32)\n",
    "    df = DataFrame(mymat, :auto)\n",
    "    save(\"/Users/saveriobocini/numerics_PhD/VCmatrices/quantum_transistor/StandardNonInt/L$(Ls[elle])_Jx$(Jx)_Jy$(Jy)_Jz$(Jz)_h$(h)_BondDim$(bDs[bonddim])_t$(round(times[elle][tt],digits=2)).csv\", \n",
    "        df; header=false)\n",
    "end"
   ]
  },
  {
   "cell_type": "markdown",
   "id": "ccde40a3",
   "metadata": {},
   "source": [
    "## previous shit"
   ]
  },
  {
   "cell_type": "code",
   "execution_count": null,
   "id": "8bccb39d",
   "metadata": {},
   "outputs": [],
   "source": [
    "resultsFLIP = []\n",
    "bondD = 70\n",
    "\n",
    "for taglia in 16:6:52\n",
    "    \n",
    "    sites = siteinds(\"S=1/2\", taglia);\n",
    "    state_allup = productMPS(sites, \"Up\");\n",
    "    \n",
    "    timeSTART = 1;\n",
    "    timeSTEPS = 9;\n",
    "\n",
    "    timeMAX = (taglia/2 - 6) / vmax;\n",
    "    timeSTEP = (timeMAX - timeSTART) / timeSTEPS;\n",
    "    \n",
    "    print(\"Chain length = $taglia : \\n\")\n",
    "    print(\"initializing step zero \\r\")\n",
    "    flush(stdout)\n",
    "\n",
    "    psi0 = apply(2 * op(\"Sx\", sites[round(Int,taglia/2)]), state_allup);\n",
    "    evolved = TEBD(psi0, 1E-10, bondD, 0.1, timeSTART);\n",
    "    provisory = evolved\n",
    "\n",
    "    print(0,\"/\",timeSTEPS,\" time steps done       \\r\")\n",
    "    flush(stdout)\n",
    "\n",
    "    for i in 1:timeSTEPS\n",
    "        provisory = TEBD(provisory, 1E-10, bondD, 0.1, timeSTEP);\n",
    "        evolved = vcat(evolved, provisory)\n",
    "        print(i,\"/\",timeSTEPS,\" time steps done         \\r\")\n",
    "        flush(stdout)\n",
    "    end\n",
    "\n",
    "    print(\"\\n\")\n",
    "\n",
    "    energie, vettori = eigen(VCM(evolved[end]));\n",
    "\n",
    "    append!(resultsFLIP, [[taglia, real.(energie[end])]])\n",
    "\n",
    "end\n",
    "\n"
   ]
  },
  {
   "cell_type": "code",
   "execution_count": null,
   "id": "34e45a5d",
   "metadata": {},
   "outputs": [],
   "source": [
    "scatter([resultsFLIP[i][1] for i=1:length(resultsFLIP)], [resultsFLIP[i][2] for i=1:length(resultsFLIP)]\n",
    "    , legend = :bottomright\n",
    "    , xlabel = L\"L\"\n",
    "    , ylabel = \"max eigval\"\n",
    "    , label = \"\"\n",
    ")\n",
    "\n",
    "plot!([resultsFLIP[i][1] for i=1:length(resultsFLIP)], [resultsFLIP[i][2] for i=1:length(resultsFLIP)], label = \"\")"
   ]
  },
  {
   "cell_type": "markdown",
   "id": "7bb54bf9",
   "metadata": {},
   "source": [
    "## Rotated case"
   ]
  },
  {
   "cell_type": "code",
   "execution_count": null,
   "id": "fd7ff481",
   "metadata": {},
   "outputs": [],
   "source": [
    "elle = 2\n",
    "bonddim = 3\n",
    "\n",
    "for tt in 1:length(times[elle])\n",
    "    state_all_up = productMPS(siteinds(states[elle][bonddim][tt]), n -> \"Up\");\n",
    "    mymat = format.(real.(VCM((states[elle][bonddim][tt] + state_all_up)/sqrt(2))), precision=32)\n",
    "    df = DataFrame(mymat, :auto)\n",
    "    save(\"/Users/saveriobocini/numerics_PhD/VCmatrices/quantum_transistor/CatNonInt/L$(Ls[elle])_Jx$(Jx)_Jy$(Jy)_Jz$(Jz)_h$(h)_BondDim$(bDs[bonddim])_t$(round(times[elle][tt],digits=2)).csv\", \n",
    "        df; header=false)\n",
    "end"
   ]
  },
  {
   "cell_type": "markdown",
   "id": "4e5a9525",
   "metadata": {},
   "source": [
    "# Full counting statistics"
   ]
  },
  {
   "cell_type": "markdown",
   "id": "700403a0",
   "metadata": {},
   "source": [
    "## Discrete approach"
   ]
  },
  {
   "cell_type": "markdown",
   "id": "0930e9f2",
   "metadata": {},
   "source": [
    "This procedure is based on what Mario did in https://scipost.org/SciPostPhys.12.4.126 .\n",
    "We need first to compute the **generating function of the moments of the probability distribution**, defined as\n",
    "\n",
    "$$ G_k^{(\\ell)} = <\\psi| e^{i \\frac{2\\pi k}{2\\ell+1} \\hat{M}_\\ell}|\\psi>,$$\n",
    "\n",
    "\n",
    "where $\\ell$ is the size of the subsystem on which $\\hat{M}$ acts (for the moment, I will consider only even $\\ell$ and assume that the subsystem in centered in the origin) and \n",
    "\n",
    "$$ \\hat{M}_\\ell = \\sum_{i=-\\ell/2 + 1}^{\\ell/2} S_i^z.$$\n",
    "\n",
    "Finally we need to perform the discrete Fourier transform corresponding to \n",
    "\n",
    "\\begin{equation}\n",
    "\\begin{aligned}\n",
    "P_\\ell(m) &=  \\sum_{\\alpha=1}^{deg(m)} |<m,\\alpha|\\psi>|^2 \n",
    "= \\sum_{n}\\sum_{\\alpha=1}^{deg(m)}\\sum_{\\beta=1}^{deg(n)} |c_{n,\\beta}|^2 |<m,\\alpha|n,\\beta>|\n",
    "\\\\&= \\sum_{\\alpha=1}^{deg(m)} |c_{m,\\alpha}|^2 \n",
    "= \\sum_{n}\\sum_{\\alpha=1}^{deg(n)}  \\delta_{n,m} |c_{n,\\alpha}|^2 \n",
    "= \\frac{1}{\\ell+1} \\sum_{n,\\alpha} \\sum_{k=-\\ell/2}^{\\ell/2} e^{i \\frac{2\\pi k}{2\\ell+1} (n-m)} |c_{n,\\alpha}|^2\n",
    "\\\\&= \\frac{1}{\\ell+1} \\sum_{n,\\alpha} \\sum_{k=-\\ell/2}^{\\ell/2} e^{-i \\frac{2\\pi k}{\\ell+1} m} |c_{n,\\alpha}|^2 <n,\\alpha| e^{i \\frac{2\\pi k}{\\ell+1} \\hat{M}_\\ell} |n,\\alpha>\n",
    "\\\\&= \\frac{1}{\\ell+1} \\sum_{n,\\alpha}\\sum_{n',\\alpha'} \\sum_{k=-\\ell/2}^{\\ell/2} e^{-i \\frac{2\\pi k}{\\ell+1} m} c_{n,\\alpha}^* c_{n',\\alpha'} <n,\\alpha| e^{i \\frac{2\\pi k}{\\ell+1} \\hat{M}_\\ell}|n',\\alpha'>\n",
    "\\\\&= \\frac{1}{\\ell+1} \\sum_{k=-\\ell/2}^{\\ell/2} e^{-i \\frac{2\\pi k}{\\ell+1} m} <\\psi| e^{i \\frac{2\\pi k}{\\ell+1} \\hat{M}_\\ell}|\\psi>\n",
    "= \\frac{1}{\\ell+1} \\sum_{k=-\\ell/2}^{\\ell/2} e^{-i \\frac{2\\pi k}{\\ell+1} m} G^{(\\ell)}_k\n",
    "\\end{aligned}\n",
    "\\end{equation}\n",
    "\n",
    "\n",
    "that is the probability to measure $m$ looking at the observable $\\hat{M}_\\ell$ if the system is in the state $\\psi$. Note that $m$ can only assume semi-integer values; specifically, it assumes values in the interval $\\{-\\ell/2, -(\\ell-1)/2,...,\\ell/2\\}$. In fact, note that only integer values of $\\hat{M}_\\ell$ are possible, since we are considering an even number of spins, and I used that in the proof above."
   ]
  },
  {
   "cell_type": "code",
   "execution_count": null,
   "id": "3e48fb33",
   "metadata": {},
   "outputs": [],
   "source": [
    "function eiM(θ, psi, ell) \n",
    "    siti = siteinds(psi)\n",
    "    lunghezza = length(psi)\n",
    "    outpu = ITensor[]\n",
    "    for j in siti[- div(ell, 2) + 1 + div(lunghezza, 2) : div(ell, 2) + div(lunghezza, 2)]\n",
    "        ope = op(\"Sz\", j)\n",
    "        push!(outpu, exp(2im * pi * θ * ope / (ell + 1)))\n",
    "    end\n",
    "    outpu\n",
    "end\n",
    "\n",
    "G(state, ell) = [inner(state, apply(eiM(k, state, ell), state)) for k=-div(ell, 2):div(ell, 2)]"
   ]
  },
  {
   "cell_type": "code",
   "execution_count": null,
   "id": "9e2876b3",
   "metadata": {},
   "outputs": [],
   "source": [
    "function full_counting_ofZ(state, ell)\n",
    "    Gk = G(state, ell)\n",
    "    outpu = ComplexF64[]\n",
    "    rangeh = div(ell, 2)\n",
    "    for m = -rangeh:rangeh\n",
    "        expophase = [exp(- 2im * pi * k * m / (ell + 1)) for k=-rangeh:rangeh]\n",
    "        push!(outpu, sum(expophase .* Gk) / (ell + 1))\n",
    "    end\n",
    "    outpu\n",
    "end\n",
    "        "
   ]
  },
  {
   "cell_type": "code",
   "execution_count": null,
   "id": "34f3b0b1",
   "metadata": {},
   "outputs": [],
   "source": [
    "# check for the initial product state\n",
    "\n",
    "full_countedZ = real.(full_counting_ofZ(psi0, 6))\n",
    "scatter([j for j=-div(length(full_countedZ), 2):div(length(full_countedZ), 2)], full_countedZ)"
   ]
  },
  {
   "cell_type": "code",
   "execution_count": null,
   "id": "6812f89e",
   "metadata": {},
   "outputs": [],
   "source": [
    "subsys = 16\n",
    "elle = 2\n",
    "bonddim = length(bDs)\n",
    "\n",
    "full_countedZ = [real(full_counting_ofZ(states[elle][bonddim][i], subsys)) for i=1:length(times[elle])];"
   ]
  },
  {
   "cell_type": "code",
   "execution_count": null,
   "id": "712a358a",
   "metadata": {},
   "outputs": [],
   "source": [
    "start = 10\n",
    "lege = reshape([\"t = $(round(times[elle][i], digits=2))\" for i=start:length(times[elle])], (1, length(times[elle]) - start + 1))\n",
    "\n",
    "scatter([i for i=-div(subsys, 2):div(subsys, 2)], \n",
    "    full_countedZ[start:end]\n",
    "    , label = lege\n",
    "    , legend = :topleft\n",
    "    , title = \"L = $(Ls[elle]), bD = $(bDs[bonddim]), size(A) = $subsys\"\n",
    "    , xlabel = L\"m\"\n",
    "    , ylabel = L\"P_A(m)\"\n",
    ")"
   ]
  },
  {
   "cell_type": "markdown",
   "id": "1f36235f",
   "metadata": {},
   "source": [
    "## Further analysis"
   ]
  },
  {
   "cell_type": "markdown",
   "id": "f2a1c411",
   "metadata": {},
   "source": [
    "Given the full counting statistics, we can compute mean and variance of the distribution. We kinda know that the variance is directly linked to the macroscopic entanglement (if it grows a (system size)^2, or in our case, as time^2 (it is equivalente, given our lightcone structure). "
   ]
  },
  {
   "cell_type": "code",
   "execution_count": null,
   "id": "77e2bbab",
   "metadata": {},
   "outputs": [],
   "source": [
    "function meanFCS(fullcountedstatistics)\n",
    "    ell = length(fullcountedstatistics)\n",
    "    sum([j for j=-div(ell,2):div(ell,2)] .* fullcountedstatistics)\n",
    "end\n",
    "\n",
    "function varianceFCS(fullcountedstatistics)\n",
    "    ell = length(fullcountedstatistics)\n",
    "    mmm = meanFCS(fullcountedstatistics)\n",
    "    sum([(j - mmm)^2 for j=-div(ell,2):div(ell,2)] .* fullcountedstatistics)\n",
    "end\n"
   ]
  },
  {
   "cell_type": "code",
   "execution_count": null,
   "id": "fcf3d7ea",
   "metadata": {},
   "outputs": [],
   "source": [
    "elle = length(Ls)\n",
    "subsys = Ls[elle]\n",
    "\n",
    "full_countedZs = [\n",
    "    [\n",
    "        real(full_counting_ofZ(states[elle][bd][i], subsys)) \n",
    "        for i=1:length(times[elle])\n",
    "    ] for bd = 1:length(bDs)\n",
    "];"
   ]
  },
  {
   "cell_type": "code",
   "execution_count": null,
   "id": "576456ef",
   "metadata": {},
   "outputs": [],
   "source": [
    "bonddim = 4\n",
    "start = reliable_timestep-1\n",
    "finish = reliable_timestep\n",
    "lege = reshape([\"t = $(round(times[elle][i], digits=2))\" for i=start:finish], (1, finish - start + 1))\n",
    "\n",
    "scatter([i for i=-div(subsys, 2):div(subsys, 2)], \n",
    "    full_countedZs[bonddim][start:finish]\n",
    "    , label = lege\n",
    "    , legend = :topleft\n",
    "    , title = \"L = $(Ls[elle]), bD = $(bDs[bonddim]), size(A) = $subsys\"\n",
    "    , xlabel = L\"m\"\n",
    "    , ylabel = L\"P_A(m)\"\n",
    ")"
   ]
  },
  {
   "cell_type": "code",
   "execution_count": null,
   "id": "c258f186",
   "metadata": {},
   "outputs": [],
   "source": [
    "#savefig(\"./img/FIGfullcounting_TransistorNonint.pdf\")\n",
    "#savefig(\"./img/FIGfullcounting_TransistorInt.pdf\")"
   ]
  },
  {
   "cell_type": "code",
   "execution_count": null,
   "id": "fc56b226",
   "metadata": {},
   "outputs": [],
   "source": [
    "mean_magnetizations = [meanFCS.(full_countedZs[bd]) for bd = 1:length(bDs)];\n",
    "magnetization_variances = [varianceFCS.(full_countedZs[bd]) for bd = 1:length(bDs)];"
   ]
  },
  {
   "cell_type": "code",
   "execution_count": null,
   "id": "ee5dd772",
   "metadata": {},
   "outputs": [],
   "source": [
    "lege = reshape([\"bD = $(bDs[i])\" for i = 1:length(bDs)], (1,length(bDs)))\n",
    "\n",
    "scatter(times[elle], \n",
    "    [(div(Ls[elle], 2) - 1) .- mean_magnetizations[bd] for bd=1:length(bDs)]\n",
    "    , legend = :bottomright\n",
    "    , xlabel = L\"t\"\n",
    "    , ylabel = L\"mean(~\\hat{M}_A~; ~|\\psi(t)>~) - <\\hat{M}_A>_0\"\n",
    "    , label = lege\n",
    "    , title = \"L = $(Ls[elle]), size(A) = $subsys\"\n",
    ")"
   ]
  },
  {
   "cell_type": "code",
   "execution_count": null,
   "id": "ea6e3ebe",
   "metadata": {},
   "outputs": [],
   "source": [
    "lege = reshape([\"bD = $(bDs[i])\" for i = 1:length(bDs)], (1,length(bDs)))\n",
    "\n",
    "scatter(times[elle], \n",
    "    magnetization_variances\n",
    "    , legend = :bottomright\n",
    "    , xlabel = L\"t\"\n",
    "    , ylabel = L\"Var(~\\hat{M}_A~; ~|\\psi(t)>~)\"\n",
    "    , label = lege\n",
    "    , title = \"L = $(Ls[elle]), size(A) = $subsys\"\n",
    ")"
   ]
  },
  {
   "cell_type": "code",
   "execution_count": null,
   "id": "4c853dd3",
   "metadata": {},
   "outputs": [],
   "source": [
    "#savefig(\"./img/FIGvariance_TransistorNonint.pdf\")\n",
    "#savefig(\"./img/FIGvariance_TransistorInt.pdf\")"
   ]
  },
  {
   "cell_type": "code",
   "execution_count": null,
   "id": "9a803f86",
   "metadata": {
    "scrolled": false
   },
   "outputs": [],
   "source": [
    "lege = reshape([\"bD = $(bDs[i])\" for i = 1:length(bDs)], (1,length(bDs)))\n",
    "\n",
    "scatter([(div(Ls[elle], 2) - 1) .- mean_magnetizations[bd] for bd=1:2], \n",
    "    magnetization_variances\n",
    "    , legend = :bottomright\n",
    "    , xlabel = L\"M\"\n",
    "    , ylabel = L\"Var(~\\hat{M}_A~; ~|\\psi(t)>~)\"\n",
    "    , label = lege\n",
    "    , title = \"L = $(Ls[elle]), size(A) = $subsys\"\n",
    ")"
   ]
  },
  {
   "cell_type": "code",
   "execution_count": null,
   "id": "12ecf8c6",
   "metadata": {},
   "outputs": [],
   "source": [
    "#savefig(\"./img/FIGvarVSmagn_TransistorNonint.pdf\")\n",
    "#savefig(\"./img/FIGvarVSmagn_TransistorInt.pdf\")"
   ]
  },
  {
   "cell_type": "code",
   "execution_count": null,
   "id": "c4a3f123",
   "metadata": {},
   "outputs": [],
   "source": [
    "elle = length(Ls)\n",
    "max_schm_values12 = [max_schm_vals.(states[elle][end-1]), max_schm_vals.(states[elle][end])];\n",
    "nnpur12 = [nonpurity_length.(max_schm_values12[1]), nonpurity_length.(max_schm_values12[2])]"
   ]
  },
  {
   "cell_type": "code",
   "execution_count": null,
   "id": "d1e7ae35",
   "metadata": {
    "scrolled": false
   },
   "outputs": [],
   "source": [
    "lege = reshape([\"bD = $(bDs[i])\" for i = length(bDs)-1:length(bDs)], (1,2))\n",
    "\n",
    "scatter(nnpur12, \n",
    "    magnetization_variances[end-1,end]\n",
    "    , legend = :bottomright\n",
    "    , xlabel = \"Non-product-region size\"\n",
    "    , ylabel = L\"Var(~\\hat{M}_A~; ~|\\psi(t)>~)\"\n",
    "    , label = lege\n",
    "    , title = \"L = $(Ls[elle]), size(A) = $subsys\"\n",
    ")"
   ]
  },
  {
   "cell_type": "code",
   "execution_count": null,
   "id": "dcb33056",
   "metadata": {},
   "outputs": [],
   "source": [
    "#savefig(\"./img/FIGvarVSpurity_TransistorNonint.pdf\")\n",
    "#savefig(\"./img/FIGvarVSpurity_TransistorInt.pdf\")"
   ]
  },
  {
   "cell_type": "markdown",
   "id": "657c3f1d",
   "metadata": {},
   "source": [
    "Let's do a sanity check: the mean magnetizations obtained from the full counted statistics must coincide with the total magnetization computed earlier in this notebook."
   ]
  },
  {
   "cell_type": "code",
   "execution_count": null,
   "id": "d85e0e7a",
   "metadata": {},
   "outputs": [],
   "source": [
    "lege = reshape([\"bD = $(bDs[i])\" for i = 1:length(bDs)], (1,length(bDs)))\n",
    "\n",
    "scatter(times[elle],\n",
    "    [mean_magnetizations[length(bDs)] .- magns_tot[elle][bd] for bd = 1:length(bDs)]\n",
    "    , xlabel = L\"t\"\n",
    "    , label = lege\n",
    "    , legend = :topleft\n",
    "    , yaxis = \"previous magn tot minus new one\"\n",
    ")"
   ]
  },
  {
   "cell_type": "markdown",
   "id": "b6cdff20",
   "metadata": {},
   "source": [
    "### Saving the result"
   ]
  },
  {
   "cell_type": "code",
   "execution_count": null,
   "id": "c4696315",
   "metadata": {},
   "outputs": [],
   "source": [
    "# for laptop:\n",
    "whereto = \"/Users/saveriobocini/numerics_PhD/full_counted_statistics\";\n",
    "\n",
    "# for desktop\n",
    "#whereto = \"/home/sbocini/Numerics_LabDesktop/full_counted_statistics\";"
   ]
  },
  {
   "cell_type": "code",
   "execution_count": null,
   "id": "439b991b",
   "metadata": {
    "scrolled": true
   },
   "outputs": [],
   "source": [
    "df = DataFrame([full_countedZs[2][i][j] for j=1:length(full_countedZs[2][1]), i=1:length(full_countedZs[2])], :auto)\n",
    "rename!(df, Symbol.(times[1]))\n",
    "save(\"$(whereto)/Transistor/L$(Ls[elle])_Jx$(Jx)_Jy$(Jy)_Jz$(Jz)_h$(h)_dt$(dt)_bD$(bDs[bonddim]).csv\", df)"
   ]
  },
  {
   "cell_type": "markdown",
   "id": "c6605f2f",
   "metadata": {},
   "source": [
    "## Using saved results (FLIP case)"
   ]
  },
  {
   "cell_type": "markdown",
   "id": "b4524e54",
   "metadata": {},
   "source": [
    "Given the full counting statistics, we can compute mean and variance of the distribution. We kinda know that the variance is directly linked to the macroscopic entanglement (if it grows a (system size)^2, or in our case, as time^2 (it is equivalente, given our lightcone structure). "
   ]
  },
  {
   "cell_type": "code",
   "execution_count": null,
   "id": "a33372fe",
   "metadata": {},
   "outputs": [],
   "source": [
    "function meanFCS(fullcountedstatistics)\n",
    "    ell = length(fullcountedstatistics)\n",
    "    sum([j for j=-div(ell,2):div(ell,2)] .* fullcountedstatistics)\n",
    "end\n",
    "\n",
    "function varianceFCS(fullcountedstatistics)\n",
    "    ell = length(fullcountedstatistics)\n",
    "    mmm = meanFCS(fullcountedstatistics)\n",
    "    sum([(j - mmm)^2 for j=-div(ell,2):div(ell,2)] .* fullcountedstatistics)\n",
    "end\n"
   ]
  },
  {
   "cell_type": "code",
   "execution_count": null,
   "id": "210ea6e3",
   "metadata": {},
   "outputs": [],
   "source": [
    "# for laptop:\n",
    "#whereto = \"/Users/saveriobocini/numerics_PhD/full_counted_statistics\";\n",
    "\n",
    "# for desktop\n",
    "whereto = \"/home/sbocini/Numerics_LabDesktop/full_counted_statistics\";"
   ]
  },
  {
   "cell_type": "code",
   "execution_count": null,
   "id": "6c792cfe",
   "metadata": {},
   "outputs": [],
   "source": [
    "elle = length(Ls)\n",
    "bonddim1 = length(bDs)-1\n",
    "bonddim2 = length(bDs)\n",
    "\n",
    "result_loaded = DataFrame(load(\"$(whereto)/quantum_transistor/standard/L$(Ls[elle])_Jx$(Jx)_Jy$(Jy)_Jz$(Jz)_h$(h)_dt$(dt)_bD$(bDs[bonddim1]).csv\");)\n",
    ";\n",
    "\n",
    "imported_times = parse.(Float64, names(result_loaded));\n",
    "imported_fcs1 = [result_loaded[!, i] for i = 1:length(imported_times)];\n",
    "\n",
    "result_loaded = DataFrame(load(\"$(whereto)/quantum_transistor/standard/L$(Ls[elle])_Jx$(Jx)_Jy$(Jy)_Jz$(Jz)_h$(h)_dt$(dt)_bD$(bDs[bonddim2]).csv\");)\n",
    ";\n",
    "imported_fcs2 = [result_loaded[!, i] for i = 1:length(imported_times)];"
   ]
  },
  {
   "cell_type": "code",
   "execution_count": null,
   "id": "c8e563ba",
   "metadata": {},
   "outputs": [],
   "source": [
    "start = 5\n",
    "finish = 10\n",
    "lege = reshape([\"t = $(round(imported_times[i], digits=2))\" for i=start:finish], (1, finish - start + 1))\n",
    "\n",
    "scatter([i for i=-div(Ls[elle], 2):div(Ls[elle], 2)], \n",
    "    imported_fcs2[start:finish]\n",
    "    , label = lege\n",
    "    , legend = :topleft\n",
    "    , title = \"L = $(Ls[elle]), bD = $(bDs[bonddim2]), size(A) = $(Ls[end])\"\n",
    "    , xlabel = L\"m\"\n",
    "    , ylabel = L\"P_A(m)\"\n",
    ")"
   ]
  },
  {
   "cell_type": "code",
   "execution_count": null,
   "id": "cdc8201b",
   "metadata": {},
   "outputs": [],
   "source": [
    "#savefig(\"./img/FIGfullcounting_TransistorNonint2.pdf\")\n",
    "#savefig(\"./img/FIGfullcounting_TransistorInt2.pdf\")\n",
    "#savefig(\"./img/FIGfullcounting_DualXX.pdf\")"
   ]
  },
  {
   "cell_type": "code",
   "execution_count": null,
   "id": "91c01d29",
   "metadata": {},
   "outputs": [],
   "source": [
    "tt = 10\n",
    "\n",
    "scatter([i for i=-div(Ls[elle], 2):div(Ls[elle], 2)], \n",
    "    imported_fcs1[tt]\n",
    "    , label = \"bD = $(bDs[end-1])\"\n",
    "    , legend = :topleft\n",
    "    , title = \"L = $(Ls[elle]), size(A) = $(Ls[end]), t = $(round(imported_times[tt], digits=2))\"\n",
    "    , xlabel = L\"m\"\n",
    "    , ylabel = L\"P_A(m)\"\n",
    ")\n",
    "\n",
    "scatter!([i for i=-div(Ls[elle], 2):div(Ls[elle], 2)], \n",
    "    imported_fcs2[tt]\n",
    "    , label = \"bD = $(bDs[end])\"\n",
    ")"
   ]
  },
  {
   "cell_type": "code",
   "execution_count": null,
   "id": "dfd3b485",
   "metadata": {},
   "outputs": [],
   "source": [
    "[sum(imported_fcs1[tt]), sum(imported_fcs2[tt])]"
   ]
  },
  {
   "cell_type": "code",
   "execution_count": null,
   "id": "53f02c6a",
   "metadata": {},
   "outputs": [],
   "source": [
    "#savefig(\"./img/FIGfullcountingSTABILITY_TransistorNonint2.pdf\")\n",
    "#savefig(\"./img/FIGfullcountingSTABILITY_TransistorInt2.pdf\")\n",
    "#savefig(\"./img/FIGfullcountingSTABILITY_DualXX.pdf\")"
   ]
  },
  {
   "cell_type": "code",
   "execution_count": null,
   "id": "ff2de36c",
   "metadata": {},
   "outputs": [],
   "source": [
    "mean_magnetization1 = meanFCS.(imported_fcs1) \n",
    "magnetization_variance1 = varianceFCS.(imported_fcs1) \n",
    "\n",
    "mean_magnetization2 = meanFCS.(imported_fcs2) \n",
    "magnetization_variance2 = varianceFCS.(imported_fcs2) ;"
   ]
  },
  {
   "cell_type": "code",
   "execution_count": null,
   "id": "9840a258",
   "metadata": {},
   "outputs": [],
   "source": [
    "start = 1\n",
    "finish = 7\n",
    "\n",
    "scatter(times[length(Ls)][start:finish], \n",
    "    magnetization_variance1[start:finish]\n",
    "    , legend = :bottomright\n",
    "    , xlabel = L\"t\"\n",
    "    , ylabel = L\"Var(~\\hat{M}_A~; ~|\\psi(t)>~)\"\n",
    "    , label = \"bD = $(bDs[end-1])\"\n",
    "    , title = \"L = $(Ls[elle]), size(A) = $(Ls[end])\"\n",
    "    , yrange = (-0.1, magnetization_variance2[finish]+0.5)\n",
    ")\n",
    "\n",
    "scatter!(times[length(Ls)][start:finish], \n",
    "    magnetization_variance2\n",
    "    , label = \"bD = $(bDs[end])\"\n",
    ")"
   ]
  },
  {
   "cell_type": "code",
   "execution_count": null,
   "id": "a8c6a4dd",
   "metadata": {},
   "outputs": [],
   "source": [
    "#savefig(\"./img/FIGvariance_TransistorNonint2.pdf\")\n",
    "#savefig(\"./img/FIGvariance_TransistorInt2.pdf\")\n",
    "#savefig(\"./img/FIGvariance_DualXX.pdf\")"
   ]
  },
  {
   "cell_type": "code",
   "execution_count": null,
   "id": "db2e10a3",
   "metadata": {},
   "outputs": [],
   "source": [
    "elle = length(Ls)\n",
    "max_schm_values12 = [max_schm_vals.(states[elle][end-1]), max_schm_vals.(states[elle][end])];\n",
    "nnpur12 = [nonpurity_length.(max_schm_values12[1]), nonpurity_length.(max_schm_values12[2])]"
   ]
  },
  {
   "cell_type": "code",
   "execution_count": null,
   "id": "06380fae",
   "metadata": {
    "scrolled": false
   },
   "outputs": [],
   "source": [
    "start = 1\n",
    "finish = 13\n",
    "\n",
    "scatter(nnpur12[1][start:finish], \n",
    "    magnetization_variance1[start:finish]\n",
    "    , legend = :bottomright\n",
    "    , xlabel = \"Non-product-region size\"\n",
    "    , ylabel = L\"Var(~\\hat{M}_A~; ~|\\psi(t)>~)\"\n",
    "    , label = \"bD = $(bDs[end-1])\"\n",
    "    , title = \"L = $(Ls[elle]), size(A) = $(Ls[end])\"\n",
    ")\n",
    "\n",
    "scatter!(nnpur12[2][start:finish], \n",
    "    magnetization_variance2[start:finish]\n",
    "    , label = \"bD = $(bDs[end])\"\n",
    "    , legend=:bottomright\n",
    ")"
   ]
  },
  {
   "cell_type": "code",
   "execution_count": null,
   "id": "b9cb8b32",
   "metadata": {},
   "outputs": [],
   "source": [
    "#savefig(\"./img/FIGvarVSpurity_TransistorNonint2.pdf\")\n",
    "#savefig(\"./img/FIGvarVSpurity_TransistorInt2.pdf\")\n",
    "#savefig(\"./img/FIGvarVSpurity_DualXX.pdf\")"
   ]
  },
  {
   "cell_type": "markdown",
   "id": "f3e3221a",
   "metadata": {},
   "source": [
    "### Alternative representations"
   ]
  },
  {
   "cell_type": "code",
   "execution_count": null,
   "id": "7867e5c8",
   "metadata": {},
   "outputs": [],
   "source": [
    "start = 7\n",
    "finish = 10\n",
    "lege = reshape([\"t = $(round(imported_times[i], digits=2))\" for i=start:finish], (1, finish - start + 1))\n",
    "\n",
    "plot([[(i-Ls[elle]/2)/rr for i=-div(Ls[elle], 2)+1:2:div(Ls[elle], 2)] for rr in times[elle][start:finish]], \n",
    "    [imported_fcs2[rr][2:2:end] * times[elle][rr] for rr in start:finish] \n",
    "    , label = lege\n",
    "    , legend = :topleft\n",
    "    , title = \"L = $(Ls[elle]), bD = $(bDs[bonddim2]), size(A) = $(Ls[end]), only odd m\"\n",
    "    , xlabel = L\"(m-m_{max})/t\"\n",
    "    , ylabel = L\"tP_A(m)\"\n",
    "    , xrange = (-2,0.01)\n",
    ")"
   ]
  },
  {
   "cell_type": "code",
   "execution_count": null,
   "id": "26efef2c",
   "metadata": {},
   "outputs": [],
   "source": [
    "start = 4\n",
    "finish = 13\n",
    "lege = reshape([L\"t=\" * \"$(round(imported_times[i], digits=1))\" for i=start:3:finish], (1, 1+div(finish - start + 1,3)))\n",
    "\n",
    "plot([vcat([(i - mean_magnetization2[rr]) / sqrt(times[elle][rr]) \n",
    "                for i=-div(Ls[elle], 2)+1:2:div(Ls[elle], 2)], \n",
    "            (Ls[elle]/2 - mean_magnetization2[rr]) / sqrt(times[elle][rr])\n",
    "            ) \n",
    "        for rr in start:3:finish], \n",
    "    [vcat(imported_fcs2[rr][2:2:end],\n",
    "            imported_fcs2[rr][end]  \n",
    "            ) * sqrt(times[elle][rr]) \n",
    "        for rr in start:3:finish] \n",
    "    , label = lege\n",
    "    , legend = :topleft\n",
    "    #, title = \"L = $(Ls[elle]), bD = $(bDs[bonddim2]), size(A) = $(Ls[end]), only odd m\"\n",
    "    , xlabel = L\"(m-\\langle \\mathbf{S}^z(t)\\rangle)/\\sqrt{t}\"\n",
    "    , ylabel = L\"\\sqrt{t}P_{\\frac{\\pi}{2}}(m)\"\n",
    "    , xrange = (-3, 3)\n",
    "    , xtickfontsize = 14\n",
    "    , ytickfontsize = 14\n",
    "    , xguidefontsize = 16\n",
    "    , yguidefontsize = 16\n",
    "    , legendfontsize = 12\n",
    "    , margins = 5Plots.mm\n",
    ")"
   ]
  },
  {
   "cell_type": "code",
   "execution_count": null,
   "id": "5c37edd5",
   "metadata": {},
   "outputs": [],
   "source": [
    "#savefig(\"./img/paper_fcsFlip_dualXX.pdf\")"
   ]
  },
  {
   "cell_type": "markdown",
   "id": "06b96512",
   "metadata": {},
   "source": [
    "## Using saved results (ROTATED case)"
   ]
  },
  {
   "cell_type": "code",
   "execution_count": null,
   "id": "64adf5e3",
   "metadata": {},
   "outputs": [],
   "source": [
    "function meanFCS(fullcountedstatistics)\n",
    "    ell = length(fullcountedstatistics)\n",
    "    sum([j for j=-div(ell,2):div(ell,2)] .* fullcountedstatistics)\n",
    "end\n",
    "\n",
    "function varianceFCS(fullcountedstatistics)\n",
    "    ell = length(fullcountedstatistics)\n",
    "    mmm = meanFCS(fullcountedstatistics)\n",
    "    sum([(j - mmm)^2 for j=-div(ell,2):div(ell,2)] .* fullcountedstatistics)\n",
    "end\n"
   ]
  },
  {
   "cell_type": "code",
   "execution_count": null,
   "id": "4af087cd",
   "metadata": {},
   "outputs": [],
   "source": [
    "# for laptop:\n",
    "#whereto = \"/Users/saveriobocini/numerics_PhD/full_counted_statistics_CAT\";\n",
    "\n",
    "# for desktop\n",
    "whereto = \"/home/sbocini/Numerics_LabDesktop/full_counted_statistics_CAT\";"
   ]
  },
  {
   "cell_type": "code",
   "execution_count": null,
   "id": "a40561ba",
   "metadata": {},
   "outputs": [],
   "source": [
    "elle = length(Ls)\n",
    "bonddim1 = length(bDs)-1\n",
    "bonddim2 = length(bDs)\n",
    "\n",
    "result_loaded = DataFrame(load(\"$(whereto)/quantum_transistor/standard/L$(Ls[elle])_Jx$(Jx)_Jy$(Jy)_Jz$(Jz)_h$(h)_dt$(dt)_bD$(bDs[bonddim1]).csv\");)\n",
    ";\n",
    "\n",
    "imported_times = parse.(Float64, names(result_loaded));\n",
    "imported_fcs1cat = [result_loaded[!, i] for i = 1:length(imported_times)];\n",
    "\n",
    "result_loaded = DataFrame(load(\"$(whereto)/quantum_transistor/standard/L$(Ls[elle])_Jx$(Jx)_Jy$(Jy)_Jz$(Jz)_h$(h)_dt$(dt)_bD$(bDs[bonddim2]).csv\");)\n",
    ";\n",
    "imported_fcs2cat = [result_loaded[!, i] for i = 1:length(imported_times)];"
   ]
  },
  {
   "cell_type": "code",
   "execution_count": null,
   "id": "11f7dd58",
   "metadata": {},
   "outputs": [],
   "source": [
    "start = length(imported_times)-2\n",
    "finish = length(imported_times)\n",
    "lege = reshape([\"t = $(round(imported_times[i], digits=2))\" for i=start:finish], (1, finish - start + 1))\n",
    "\n",
    "scatter([i for i=-div(Ls[elle], 2):div(Ls[elle], 2)], \n",
    "    imported_fcs2cat[start:finish]\n",
    "    , label = lege\n",
    "    , legend = :topleft\n",
    "    , title = \"L = $(Ls[elle]), bD = $(bDs[bonddim2]), size(A) = $(Ls[end])\"\n",
    "    , xlabel = L\"m\"\n",
    "    , ylabel = L\"P_A(m)\"\n",
    ")"
   ]
  },
  {
   "cell_type": "code",
   "execution_count": null,
   "id": "d0b45fde",
   "metadata": {},
   "outputs": [],
   "source": [
    "tt = length(imported_times)-1\n",
    "\n",
    "scatter([i for i=-div(Ls[elle], 2):div(Ls[elle], 2)], \n",
    "    imported_fcs1cat[tt]\n",
    "    , label = \"bD = $(bDs[end-1])\"\n",
    "    , legend = :topleft\n",
    "    , title = \"L = $(Ls[elle]), size(A) = $(Ls[end]), t = $(round(imported_times[tt], digits=2))\"\n",
    "    , xlabel = L\"m\"\n",
    "    , ylabel = L\"P_A(m)\"\n",
    ")\n",
    "\n",
    "scatter!([i for i=-div(Ls[elle], 2):div(Ls[elle], 2)], \n",
    "    imported_fcs2cat[tt]\n",
    "    , label = \"bD = $(bDs[end])\"\n",
    ")"
   ]
  },
  {
   "cell_type": "code",
   "execution_count": null,
   "id": "643a144b",
   "metadata": {},
   "outputs": [],
   "source": [
    "[sum(imported_fcs1cat[tt]), sum(imported_fcs2cat[tt])]"
   ]
  },
  {
   "cell_type": "code",
   "execution_count": null,
   "id": "f51bd6ec",
   "metadata": {},
   "outputs": [],
   "source": [
    "mean_magnetization1cat = meanFCS.(imported_fcs1cat) \n",
    "magnetization_variance1cat = varianceFCS.(imported_fcs1cat) \n",
    "\n",
    "mean_magnetization2cat = meanFCS.(imported_fcs2cat) \n",
    "magnetization_variance2cat = varianceFCS.(imported_fcs2cat) ;"
   ]
  },
  {
   "cell_type": "code",
   "execution_count": null,
   "id": "a415e20c",
   "metadata": {},
   "outputs": [],
   "source": [
    "start = 1\n",
    "finish = 13\n",
    "\n",
    "scatter(times[length(Ls)][start:finish], \n",
    "    magnetization_variance1cat[start:finish]\n",
    "    , legend = :bottomright\n",
    "    , xlabel = L\"t\"\n",
    "    , ylabel = L\"Var(~\\hat{M}_A~; ~|\\psi(t)>~)\"\n",
    "    , label = \"bD = $(bDs[end-1])\"\n",
    "    , title = \"L = $(Ls[elle]), size(A) = $(Ls[end])\"\n",
    ")\n",
    "\n",
    "scatter!(times[length(Ls)][start:finish], \n",
    "    magnetization_variance2cat\n",
    "    , label = \"bD = $(bDs[end])\"\n",
    ")"
   ]
  },
  {
   "cell_type": "code",
   "execution_count": null,
   "id": "3aef3171",
   "metadata": {},
   "outputs": [],
   "source": [
    "elle = length(Ls)\n",
    "max_schm_values12 = [max_schm_vals.(states[elle][end-1]), max_schm_vals.(states[elle][end])];\n",
    "nnpur12cat = [nonpurity_length.(max_schm_values12[1]), nonpurity_length.(max_schm_values12[2])]"
   ]
  },
  {
   "cell_type": "code",
   "execution_count": null,
   "id": "159fb3ad",
   "metadata": {
    "scrolled": false
   },
   "outputs": [],
   "source": [
    "start = 1\n",
    "finish = 13\n",
    "\n",
    "scatter(nnpur12cat[1][start:finish], \n",
    "    magnetization_variance1cat[start:finish]\n",
    "    , legend = :bottomright\n",
    "    , xlabel = \"Non-product-region size\"\n",
    "    , ylabel = L\"Var(~\\hat{M}_A~; ~|\\psi(t)>~)\"\n",
    "    , label = \"bD = $(bDs[end-1])\"\n",
    "    , title = \"L = $(Ls[elle]), size(A) = $(Ls[end])\"\n",
    ")\n",
    "\n",
    "scatter!(nnpur12cat[2][start:finish], \n",
    "    magnetization_variance2cat[start:finish]\n",
    "    , label = \"bD = $(bDs[end])\"\n",
    "    , legend=:bottomright\n",
    ")"
   ]
  },
  {
   "cell_type": "code",
   "execution_count": null,
   "id": "769c8e83",
   "metadata": {
    "scrolled": false
   },
   "outputs": [],
   "source": [
    "start = 1\n",
    "finish = 13\n",
    "\n",
    "scatter(nnpur12[2][start:finish], \n",
    "    magnetization_variance1[start:finish]\n",
    "    , legend = :topleft\n",
    "    , xlabel = L\"||\\Omega_{0.98}||\"\n",
    "    , ylabel = L\"Var(~\\hat{M})\"\n",
    "    , label = L\"\\theta=\\pi/2 \\quad(Var\\sim t)\"\n",
    "    #, title = \"L = $(Ls[elle]), size(A) = $(Ls[end])\"\n",
    "    , markersize = 9.0\n",
    "    , xtickfontsize = 14\n",
    "    , ytickfontsize = 14\n",
    "    , xguidefontsize = 16\n",
    "    , yguidefontsize = 16\n",
    "    , legendfontsize = 14\n",
    ")\n",
    "\n",
    "scatter!(nnpur12cat[2][start:finish], \n",
    "    magnetization_variance2cat[start:finish]\n",
    "    , label = L\"\\theta=\\pi/4 \\quad(Var\\sim t^2)\"\n",
    "    , markersize = 9.0\n",
    ")"
   ]
  },
  {
   "cell_type": "code",
   "execution_count": null,
   "id": "6577f063",
   "metadata": {},
   "outputs": [],
   "source": [
    "#savefig(\"poster_variance.pdf\")"
   ]
  },
  {
   "cell_type": "markdown",
   "id": "0bce8c40",
   "metadata": {},
   "source": [
    "### Alternative representations"
   ]
  },
  {
   "cell_type": "code",
   "execution_count": null,
   "id": "149ef2fd",
   "metadata": {},
   "outputs": [],
   "source": [
    "start = 7\n",
    "finish = 13\n",
    "lege = reshape([\"t = $(round(imported_times[i], digits=2))\" for i=start:finish], (1, finish - start + 1))\n",
    "\n",
    "plot([[(i-Ls[elle]/2)/rr for i=-div(Ls[elle], 2)+1:2:div(Ls[elle], 2)] for rr in times[elle][start:finish]], \n",
    "    [imported_fcs2cat[rr][2:2:end] * times[elle][rr] for rr in start:finish] \n",
    "    , label = lege\n",
    "    , legend = :topleft\n",
    "    , title = \"L = $(Ls[elle]), bD = $(bDs[bonddim2]), size(A) = $(Ls[end]), only odd m\"\n",
    "    , xlabel = L\"(m-m_{max})/t\"\n",
    "    , ylabel = L\"tP_A(m)\"\n",
    "    , xrange = (-2,0.01)\n",
    ")"
   ]
  },
  {
   "cell_type": "code",
   "execution_count": null,
   "id": "7a778def",
   "metadata": {},
   "outputs": [],
   "source": [
    "start = 4\n",
    "finish = 13\n",
    "lege = reshape([L\"t=\" * \"$(round(imported_times[i], digits=1))\" for i=start:3:finish], (1, 1+div(finish - start + 1,3)))\n",
    "\n",
    "plot([vcat([(i - mean_magnetization2cat[rr]) / sqrt(times[elle][rr]) \n",
    "                for i=-div(Ls[elle], 2)+1:2:div(Ls[elle], 2)], \n",
    "            (Ls[elle]/2 - mean_magnetization2cat[rr]) / sqrt(times[elle][rr])\n",
    "            ) \n",
    "        for rr in start:3:finish], \n",
    "    [vcat(imported_fcs2cat[rr][2:2:end],\n",
    "            imported_fcs2cat[rr][end]  \n",
    "            ) * sqrt(times[elle][rr]) \n",
    "        for rr in start:3:finish] \n",
    "    , label = lege\n",
    "    , legend = :topleft\n",
    "    #, title = \"L = $(Ls[elle]), bD = $(bDs[bonddim2]), size(A) = $(Ls[end]), only odd m\"\n",
    "    , xlabel = L\"(m-\\langle S^z(t)\\rangle)/\\sqrt{t}\"\n",
    "    , ylabel = L\"\\sqrt{t}P(\\langle S^z(t)\\rangle= m~|~\\theta=\\pi/4)\"\n",
    "    , xrange = (-8,8)\n",
    "    , xtickfontsize = 14\n",
    "    , ytickfontsize = 14\n",
    "    , xguidefontsize = 16\n",
    "    , yguidefontsize = 16\n",
    "    , legendfontsize = 12\n",
    ")\n",
    "\n",
    "scatter!([[(Ls[elle]/2 - mean_magnetization2cat[rr]) / sqrt(times[elle][rr])] for rr in start:3:finish],\n",
    "    [[imported_fcs2cat[rr][end] * sqrt(times[elle][rr])] for rr in start:3:finish]\n",
    "    , color = [1 2 3 4]\n",
    "    , label = \"\"\n",
    ")\n",
    "\n",
    "\n",
    "plot!([((Ls[elle]/2 - mean_magnetization2cat[4]) / sqrt(times[elle][4]) , \n",
    "                0.0),\n",
    "            ((Ls[elle]/2 - mean_magnetization2cat[4]) / sqrt(times[elle][4]) , \n",
    "            imported_fcs2cat[4][end] * sqrt(times[elle][4])) ]\n",
    "    , color = 1\n",
    "    , label = \"\"\n",
    ")\n",
    "\n",
    "plot!([((Ls[elle]/2 - mean_magnetization2cat[7]) / sqrt(times[elle][7]) , \n",
    "                0.0),\n",
    "            ((Ls[elle]/2 - mean_magnetization2cat[7]) / sqrt(times[elle][7]) , \n",
    "            imported_fcs2cat[7][end] * sqrt(times[elle][7])) ]\n",
    "    , color = 2\n",
    "    , label = \"\"\n",
    ")\n",
    "\n",
    "plot!([((Ls[elle]/2 - mean_magnetization2cat[10]) / sqrt(times[elle][10]) , \n",
    "                0.0),\n",
    "            ((Ls[elle]/2 - mean_magnetization2cat[10]) / sqrt(times[elle][10]) , \n",
    "            imported_fcs2cat[10][end] * sqrt(times[elle][10])) ]\n",
    "    , color = 3\n",
    "    , label = \"\"\n",
    ")\n",
    "\n",
    "plot!([((Ls[elle]/2 - mean_magnetization2cat[13]) / sqrt(times[elle][13]) , \n",
    "                0.0),\n",
    "            ((Ls[elle]/2 - mean_magnetization2cat[13]) / sqrt(times[elle][13]) , \n",
    "            imported_fcs2cat[13][end] * sqrt(times[elle][13])) ]\n",
    "    , color = 4\n",
    "    , label = \"\"\n",
    ")\n"
   ]
  },
  {
   "cell_type": "code",
   "execution_count": null,
   "id": "2dca8178",
   "metadata": {},
   "outputs": [],
   "source": [
    "start = 4\n",
    "finish = 13\n",
    "lege = reshape([L\"t=\" * \"$(round(imported_times[i], digits=1))\" for i=start:3:finish], (1, 1+div(finish - start + 1,3)))\n",
    "\n",
    "plot([[(i - mean_magnetization2cat[rr]) / sqrt(times[elle][rr]) \n",
    "                for i=-div(Ls[elle], 2)+1:2:div(Ls[elle], 2)]\n",
    "        for rr in start:3:finish], \n",
    "    [imported_fcs2cat[rr][2:2:end] * sqrt(times[elle][rr]) \n",
    "        for rr in start:3:finish] \n",
    "    , label = lege\n",
    "    , legend = :topleft\n",
    "    #, title = \"L = $(Ls[elle]), bD = $(bDs[bonddim2]), size(A) = $(Ls[end]), only odd m\"\n",
    "    , xlabel = L\"(m-\\langle S^z(t)\\rangle)/\\sqrt{t}\"\n",
    "    , ylabel = L\"\\sqrt{t}P(\\langle S^z(t)\\rangle= m~|~\\theta=\\pi/4)\"\n",
    "    , xrange = (-8,8)\n",
    "    , xtickfontsize = 14\n",
    "    , ytickfontsize = 14\n",
    "    , xguidefontsize = 16\n",
    "    , yguidefontsize = 16\n",
    "    , legendfontsize = 12\n",
    ")\n",
    "\n",
    "scatter!([[(Ls[elle]/2 - mean_magnetization2cat[rr]) / sqrt(times[elle][rr])] for rr in start:3:finish],\n",
    "    [[imported_fcs2cat[rr][end] * sqrt(times[elle][rr])] for rr in start:3:finish]\n",
    "    , color = [1 2 3 4]\n",
    "    , label = \"\"\n",
    ")\n",
    "\n",
    "\n"
   ]
  },
  {
   "cell_type": "code",
   "execution_count": null,
   "id": "9e8fbf50",
   "metadata": {
    "scrolled": false
   },
   "outputs": [],
   "source": [
    "start = 4\n",
    "finish = 13\n",
    "lege = reshape([L\"t=\" * \"$(round(imported_times[i], digits=1))\" for i=start:3:finish], (1, 1+div(finish - start + 1,3)))\n",
    "\n",
    "plot([[(i - mean_magnetization2cat[rr]) / sqrt(times[elle][rr]) \n",
    "                for i=-div(Ls[elle], 2)+1:2:div(Ls[elle], 2)]\n",
    "        for rr in start:3:finish], \n",
    "    [imported_fcs2cat[rr][2:2:end] * sqrt(times[elle][rr]) \n",
    "        for rr in start:3:finish] \n",
    "    , label = lege\n",
    "    , legend = :topleft\n",
    "    #, title = \"L = $(Ls[elle]), bD = $(bDs[bonddim2]), size(A) = $(Ls[end]), only odd m\"\n",
    "    , xlabel = L\"(m-\\langle \\mathbf{S}^z(t)\\rangle)/\\sqrt{t}\"\n",
    "    , ylabel = L\"\\sqrt{t}P_\\frac{\\pi}{4}( m)\"\n",
    "    , xrange = (-7.5,6)\n",
    "    , xtickfontsize = 14\n",
    "    , ytickfontsize = 14\n",
    "    , xguidefontsize = 16\n",
    "    , yguidefontsize = 16\n",
    "    , legendfontsize = 12\n",
    "    , margin = 5Plots.mm\n",
    ")\n",
    "\n",
    "plot!([((Ls[elle]/2 - mean_magnetization2cat[4]) / sqrt(times[elle][4]) , \n",
    "                0.0),\n",
    "            ((Ls[elle]/2 - mean_magnetization2cat[4]) / sqrt(times[elle][4]) , \n",
    "            imported_fcs2cat[4][end] * sqrt(times[elle][4])) ]\n",
    "    , color = 1\n",
    "    , label = \"\"\n",
    ")\n",
    "\n",
    "plot!([((Ls[elle]/2 - mean_magnetization2cat[7]) / sqrt(times[elle][7]) , \n",
    "                0.0),\n",
    "            ((Ls[elle]/2 - mean_magnetization2cat[7]) / sqrt(times[elle][7]) , \n",
    "            imported_fcs2cat[7][end] * sqrt(times[elle][7])) ]\n",
    "    , color = 2\n",
    "    , label = \"\"\n",
    ")\n",
    "\n",
    "plot!([((Ls[elle]/2 - mean_magnetization2cat[10]) / sqrt(times[elle][10]) , \n",
    "                0.0),\n",
    "            ((Ls[elle]/2 - mean_magnetization2cat[10]) / sqrt(times[elle][10]) , \n",
    "            imported_fcs2cat[10][end] * sqrt(times[elle][10])) ]\n",
    "    , color = 3\n",
    "    , label = \"\"\n",
    ")\n",
    "\n",
    "plot!([((Ls[elle]/2 - mean_magnetization2cat[13]) / sqrt(times[elle][13]) , \n",
    "                0.0),\n",
    "            ((Ls[elle]/2 - mean_magnetization2cat[13]) / sqrt(times[elle][13]) , \n",
    "            imported_fcs2cat[13][end] * sqrt(times[elle][13])) ]\n",
    "    , color = 4\n",
    "    , label = \"\"\n",
    ")\n",
    "\n",
    "plot!(x->0, (Ls[elle]/2 - mean_magnetization2cat[13]) / sqrt(times[elle][13])-0.5, (Ls[elle]/2 - mean_magnetization2cat[13]) / sqrt(times[elle][13])\n",
    "    , color = 4\n",
    "    , label = \"\"\n",
    ")\n",
    "\n",
    "\n"
   ]
  },
  {
   "cell_type": "code",
   "execution_count": null,
   "id": "3b7296bd",
   "metadata": {},
   "outputs": [],
   "source": [
    "#savefig(\"./img/paper_fcsCat_dualXX.pdf\")"
   ]
  },
  {
   "cell_type": "markdown",
   "id": "41a5d542",
   "metadata": {},
   "source": [
    "# Full counting for staggered magnetization"
   ]
  },
  {
   "cell_type": "code",
   "execution_count": null,
   "id": "8d3b2578",
   "metadata": {},
   "outputs": [],
   "source": [
    "function meanFCS(fullcountedstatistics)\n",
    "    ell = length(fullcountedstatistics)\n",
    "    sum([j for j=-div(ell,2):div(ell,2)] .* fullcountedstatistics)\n",
    "end\n",
    "\n",
    "function varianceFCS(fullcountedstatistics)\n",
    "    ell = length(fullcountedstatistics)\n",
    "    mmm = meanFCS(fullcountedstatistics)\n",
    "    sum([(j - mmm)^2 for j=-div(ell,2):div(ell,2)] .* fullcountedstatistics)\n",
    "end\n"
   ]
  },
  {
   "cell_type": "code",
   "execution_count": null,
   "id": "af829db9",
   "metadata": {},
   "outputs": [],
   "source": [
    "# for laptop:\n",
    "whereto = \"/Users/saveriobocini/numerics_PhD/full_counted_statistics_stagZ\";\n",
    "\n",
    "# for desktop\n",
    "#whereto = \"/home/sbocini/Numerics_LabDesktop/full_counted_statistics_stagZ\";"
   ]
  },
  {
   "cell_type": "code",
   "execution_count": null,
   "id": "2fa3dea1",
   "metadata": {},
   "outputs": [],
   "source": [
    "elle = length(Ls)\n",
    "bonddim1 = length(bDs)-1\n",
    "bonddim2 = length(bDs)\n",
    "\n",
    "result_loaded = DataFrame(load(\"$(whereto)/quantum_transistor/standard/L$(Ls[elle])_Jx$(Jx)_Jy$(Jy)_Jz$(Jz)_h$(h)_dt$(dt)_bD$(bDs[bonddim1]).csv\");)\n",
    ";\n",
    "\n",
    "imported_times = parse.(Float64, names(result_loaded));\n",
    "imported_fcs1 = [result_loaded[!, i] for i = 1:length(imported_times)];\n",
    "\n",
    "result_loaded = DataFrame(load(\"$(whereto)/quantum_transistor/standard/L$(Ls[elle])_Jx$(Jx)_Jy$(Jy)_Jz$(Jz)_h$(h)_dt$(dt)_bD$(bDs[bonddim2]).csv\");)\n",
    ";\n",
    "imported_fcs2 = [result_loaded[!, i] for i = 1:length(imported_times)];"
   ]
  },
  {
   "cell_type": "code",
   "execution_count": null,
   "id": "2976a23f",
   "metadata": {},
   "outputs": [],
   "source": [
    "start = 11\n",
    "finish = 13\n",
    "lege = reshape([\"t = $(round(imported_times[i], digits=2))\" for i=start:finish], (1, finish - start + 1))\n",
    "\n",
    "scatter([i for i=-div(Ls[elle], 2):div(Ls[elle], 2)], \n",
    "    imported_fcs2[start:finish]\n",
    "    , label = lege\n",
    "    , legend = :topleft\n",
    "    , title = \"L = $(Ls[elle]), bD = $(bDs[bonddim2]), size(A) = $(Ls[end])\"\n",
    "    , xlabel = L\"m\"\n",
    "    , ylabel = L\"P_A(m)\"\n",
    ")"
   ]
  },
  {
   "cell_type": "code",
   "execution_count": null,
   "id": "27bb6168",
   "metadata": {},
   "outputs": [],
   "source": [
    "tt = length(imported_times)\n",
    "\n",
    "scatter([i for i=-div(Ls[elle], 2):div(Ls[elle], 2)], \n",
    "    imported_fcs1[tt]\n",
    "    , label = \"bD = $(bDs[end-1])\"\n",
    "    , legend = :topleft\n",
    "    , title = \"L = $(Ls[elle]), size(A) = $(Ls[end]), t = $(round(imported_times[tt], digits=2))\"\n",
    "    , xlabel = L\"m\"\n",
    "    , ylabel = L\"P_A(m)\"\n",
    ")\n",
    "\n",
    "scatter!([i for i=-div(Ls[elle], 2):div(Ls[elle], 2)], \n",
    "    imported_fcs2[tt]\n",
    "    , label = \"bD = $(bDs[end])\"\n",
    ")"
   ]
  },
  {
   "cell_type": "code",
   "execution_count": null,
   "id": "4359f29a",
   "metadata": {},
   "outputs": [],
   "source": [
    "[sum(imported_fcs1[tt]), sum(imported_fcs2[tt])]"
   ]
  },
  {
   "cell_type": "code",
   "execution_count": null,
   "id": "1b563c74",
   "metadata": {},
   "outputs": [],
   "source": [
    "mean_STAGmagnetization1 = meanFCS.(imported_fcs1) \n",
    "STAGmagnetization_variance1 = varianceFCS.(imported_fcs1) \n",
    "\n",
    "mean_STAGmagnetization2 = meanFCS.(imported_fcs2) \n",
    "STAGmagnetization_variance2 = varianceFCS.(imported_fcs2) ;"
   ]
  },
  {
   "cell_type": "code",
   "execution_count": null,
   "id": "54276081",
   "metadata": {},
   "outputs": [],
   "source": [
    "start = 1\n",
    "finish = 13\n",
    "\n",
    "scatter(times[length(Ls)][start:finish], \n",
    "    STAGmagnetization_variance1[start:finish]\n",
    "    , legend = :bottomright\n",
    "    , xlabel = L\"t\"\n",
    "    , ylabel = L\"Var(~\\hat{M}^{stag}_A~; ~|\\psi(t)>~)\"\n",
    "    , label = \"bD = $(bDs[end-1])\"\n",
    "    , title = \"L = $(Ls[elle]), size(A) = $(Ls[end])\"\n",
    ")\n",
    "\n",
    "scatter!(times[length(Ls)][start:finish], \n",
    "    STAGmagnetization_variance2\n",
    "    , label = \"bD = $(bDs[end])\"\n",
    ")"
   ]
  },
  {
   "cell_type": "markdown",
   "id": "7127ddb7",
   "metadata": {},
   "source": [
    "# Full counting for X"
   ]
  },
  {
   "cell_type": "code",
   "execution_count": null,
   "id": "0ec614f1",
   "metadata": {},
   "outputs": [],
   "source": [
    "function eiM_forX(θ, psi, ell) \n",
    "    siti = siteinds(psi)\n",
    "    lunghezza = length(psi)\n",
    "    outpu = ITensor[]\n",
    "    for j in siti[- div(ell, 2) + 1 + div(lunghezza, 2) : div(ell, 2) + div(lunghezza, 2)]\n",
    "        ope = op(\"Sx\", j)\n",
    "        push!(outpu, exp(2im * pi * θ * ope / (ell + 1)))\n",
    "    end\n",
    "    outpu\n",
    "end\n",
    "\n",
    "G_forX(state, ell) = [inner(state, apply(eiM_forX(k, state, ell), state)) for k=-div(ell, 2):div(ell, 2)]"
   ]
  },
  {
   "cell_type": "code",
   "execution_count": null,
   "id": "fbbc4e7e",
   "metadata": {},
   "outputs": [],
   "source": [
    "function full_counting_ofX(state, ell)\n",
    "    Gk = G_forX(state, ell)\n",
    "    outpu = ComplexF64[]\n",
    "    rangeh = div(ell, 2)\n",
    "    for m = -rangeh:rangeh\n",
    "        expophase = [exp(- 2im * pi * k * m / (ell + 1)) for k=-rangeh:rangeh]\n",
    "        push!(outpu, sum(expophase .* Gk) / (ell + 1))\n",
    "    end\n",
    "    outpu\n",
    "end\n",
    "        "
   ]
  },
  {
   "cell_type": "code",
   "execution_count": null,
   "id": "cd9f43b2",
   "metadata": {},
   "outputs": [],
   "source": [
    "elle = 2\n",
    "subsys = Ls[elle]\n",
    "bonddim = 3\n",
    "\n",
    "full_countedXs = [\n",
    "    [\n",
    "        real(full_counting_ofX(states[elle][bd][i], subsys)) \n",
    "        for i=1:length(times[elle])\n",
    "    ] for bd = bonddim:bonddim\n",
    "];"
   ]
  },
  {
   "cell_type": "code",
   "execution_count": null,
   "id": "48f22224",
   "metadata": {},
   "outputs": [],
   "source": [
    "start = 1\n",
    "finish = 8\n",
    "lege = reshape([\"t = $(round(times[elle][i], digits=2))\" for i=start:finish], (1, finish - start + 1))\n",
    "\n",
    "scatter([i for i=-div(subsys, 2):div(subsys, 2)], \n",
    "    full_countedXs[end][start:finish]\n",
    "    , label = lege\n",
    "    , legend = :topleft\n",
    "    , title = \"L = $(Ls[elle]), bD = $(bDs[bonddim]), size(A) = $subsys\"\n",
    "    , xlabel = L\"m\"\n",
    "    , ylabel = L\"P_A(m)\"\n",
    ")"
   ]
  },
  {
   "cell_type": "markdown",
   "id": "2a19ee79",
   "metadata": {},
   "source": [
    "# Quantum Fisher"
   ]
  },
  {
   "cell_type": "markdown",
   "id": "58015a49",
   "metadata": {},
   "source": [
    "This uses the results obtained from the Mathematica algorithm written by Mau."
   ]
  },
  {
   "cell_type": "code",
   "execution_count": null,
   "id": "c580bafc",
   "metadata": {},
   "outputs": [],
   "source": [
    "# for laptop:\n",
    "#whereto = \"/Users/saveriobocini/numerics_PhD/fishers\";\n",
    "\n",
    "# for desktop\n",
    "whereto = \"/home/sbocini/Numerics_LabDesktop/fishers\";"
   ]
  },
  {
   "cell_type": "code",
   "execution_count": null,
   "id": "285a0412",
   "metadata": {},
   "outputs": [],
   "source": [
    "elle = length(Ls)\n",
    "\n",
    "QFI_flip = CSV.read(\"$(whereto)/quantum_transistor/standard/L$(Ls[elle])_Jx$(Jx)_Jy$(Jy)_Jz$(Jz)_h$(h)_BondDim$(bDs[end])_dt$(dt)_FLIP.csv\", DataFrame, header=0)\n",
    "\n",
    "QFI_cat = CSV.read(\"$(whereto)/quantum_transistor/standard/L$(Ls[elle])_Jx$(Jx)_Jy$(Jy)_Jz$(Jz)_h$(h)_BondDim$(bDs[end])_dt$(dt)_CAT.csv\", DataFrame, header=0);\n",
    "\n"
   ]
  },
  {
   "cell_type": "code",
   "execution_count": null,
   "id": "24f912a8",
   "metadata": {},
   "outputs": [],
   "source": [
    "start = 3\n",
    "finish = 12\n",
    "\n",
    "m(t, p) = p[1] .+ p[2] * t + p[3] ./ t\n",
    "p0 = [0.5, 0.5, 0.5]\n",
    "fitte1 = curve_fit(m, QFI_flip.Column1[start:finish], QFI_flip.Column2[start:finish], p0);\n",
    "fit_flip(t) = m(t, fitte1.param);\n",
    "\n",
    "m(t, p) = p[1] .+ p[2] * t + p[3] ./ t\n",
    "p0 = [0.5, 0.5, 0.5]\n",
    "fitte2 = curve_fit(m, QFI_cat.Column1[start:finish], QFI_cat.Column2[start:finish], p0);\n",
    "fit_cat(t) = m(t, fitte2.param);"
   ]
  },
  {
   "cell_type": "code",
   "execution_count": null,
   "id": "3da1ff40",
   "metadata": {},
   "outputs": [],
   "source": [
    "scatter(QFI_flip.Column1, QFI_flip.Column2\n",
    "    , label = L\"\\theta=\\pi/2\"\n",
    "    , legend = :topleft\n",
    "    #, title = \"L = $(Ls[elle]), bD = $(bDs[bonddim2]), size(A) = $(Ls[end]), only odd m\"\n",
    "    , xlabel = L\"|\\Omega_\\epsilon(t)|\"\n",
    "    , ylabel = L\"N_{\\mathrm{eff}}^{(1)}\"\n",
    "    #, xrange = (-4.8, 4.8)\n",
    "    , xtickfontsize = 14\n",
    "    , ytickfontsize = 14\n",
    "    , xguidefontsize = 17\n",
    "    , yguidefontsize = 17\n",
    "    , legendfontsize = 15\n",
    "    , markersize = 9\n",
    "    , margins = 5Plots.mm\n",
    ")\n",
    "\n",
    "scatter!(QFI_cat.Column1, QFI_cat.Column2\n",
    "    , label = L\"\\theta=\\pi/4\"\n",
    "    , markersize = 9\n",
    "    , shape = :utriangle\n",
    ")\n",
    "\n",
    "leftone = findmin([QFI_flip.Column1[3], QFI_cat.Column1[3]])[1] - 2\n",
    "rightone = findmax([QFI_flip.Column1[end], QFI_cat.Column1[end]])[1] + 2\n",
    "\n",
    "plot!(leftone:0.01:rightone, fit_flip(leftone:0.01:rightone)\n",
    "    , label = \"\"\n",
    "    , color = 1\n",
    ")\n",
    "\n",
    "plot!(leftone:0.01:rightone, fit_cat(leftone:0.01:rightone)\n",
    "    , label = \"\"\n",
    "    , color = 2\n",
    ")\n"
   ]
  },
  {
   "cell_type": "code",
   "execution_count": null,
   "id": "bab89b2e",
   "metadata": {},
   "outputs": [],
   "source": [
    "#savefig(\"./img/paper_fishers_dualXX.pdf\")"
   ]
  },
  {
   "cell_type": "markdown",
   "id": "23631eaf",
   "metadata": {},
   "source": [
    "# RANDOM couplings"
   ]
  },
  {
   "cell_type": "code",
   "execution_count": null,
   "id": "c1aee530",
   "metadata": {},
   "outputs": [],
   "source": [
    "dt = 0.01;\n",
    "\n",
    "Ls = [60]\n",
    "bDs = [40];"
   ]
  },
  {
   "cell_type": "code",
   "execution_count": null,
   "id": "f4922d10",
   "metadata": {},
   "outputs": [],
   "source": [
    "dt = 0.01;\n",
    "\n",
    "Ls = [40]\n",
    "bDs = [40];"
   ]
  },
  {
   "cell_type": "code",
   "execution_count": null,
   "id": "15226012",
   "metadata": {
    "scrolled": true
   },
   "outputs": [],
   "source": [
    "tabb = [[[\"$(colons)\",\"$(rows)\"] for rows in bDs] for colons in Ls]"
   ]
  },
  {
   "cell_type": "code",
   "execution_count": null,
   "id": "f30c46c3",
   "metadata": {},
   "outputs": [],
   "source": [
    "jxes = load(\"$(base_path)/RANDOM_L$(Ls[1])_BondDim$(bDs[1])_dt$(dt).jld2\", \"Jx\");\n",
    "jyes = load(\"$(base_path)/RANDOM_L$(Ls[1])_BondDim$(bDs[1])_dt$(dt).jld2\", \"Jy\");\n",
    "hacs = load(\"$(base_path)/RANDOM_L$(Ls[1])_BondDim$(bDs[1])_dt$(dt).jld2\", \"h\");"
   ]
  },
  {
   "cell_type": "code",
   "execution_count": null,
   "id": "d44ab473",
   "metadata": {},
   "outputs": [],
   "source": [
    "scatter(jxes, label = \"Jx\", xlabel = L\"\\ell\")\n",
    "scatter!(jyes, label = \"Jy\")\n",
    "scatter!(hacs, label = \"h\")"
   ]
  },
  {
   "cell_type": "code",
   "execution_count": null,
   "id": "2139fa66",
   "metadata": {},
   "outputs": [],
   "source": [
    "times = [\n",
    "    load(\"$(base_path)/RANDOM_L$(L)_BondDim$(bDs[1])_dt$(dt).jld2\"\n",
    "    , \"times\") for L in Ls\n",
    "    ];"
   ]
  },
  {
   "cell_type": "code",
   "execution_count": null,
   "id": "a0bef8ae",
   "metadata": {},
   "outputs": [],
   "source": [
    "states = [\n",
    "    [\n",
    "        [\n",
    "            load(\"$(base_path)/RANDOM_L$(Ls[k])_BondDim$(bDs[j])_dt$(dt).jld2\"\n",
    "                , \"t$(round(times[k][i], digits=3))\")\n",
    "            for i=1:length(times[1])\n",
    "        ] for j=1:length(bDs)\n",
    "    ] for k=1:length(Ls)\n",
    "];"
   ]
  },
  {
   "cell_type": "code",
   "execution_count": null,
   "id": "515fb113",
   "metadata": {},
   "outputs": [],
   "source": [
    "magnetizations = [\n",
    "    [\n",
    "        [\n",
    "            expect(states[k][j][i], \"Sz\")\n",
    "            for i=1:length(times[1])\n",
    "        ] for j=1:length(bDs)\n",
    "    ] for k=1:length(Ls)\n",
    "];"
   ]
  },
  {
   "cell_type": "code",
   "execution_count": null,
   "id": "4ad113b0",
   "metadata": {},
   "outputs": [],
   "source": [
    "elle = length(Ls)\n",
    "bonddim = length(bDs)\n",
    "start = 5\n",
    "finish = 10\n",
    "lege = reshape([\"t = $(round(times[elle][i], digits=2))\" for i=start:finish], (1, finish-start+1))\n",
    "\n",
    "plot(\n",
    "    [[l/t for l=1-Ls[elle]/2:Ls[elle]/2] for t in times[elle]][start:finish], magnetizations[elle][bonddim][start:finish], xrange  = (-3,3), xlabel = L\"\\ell/t\"\n",
    "    #[[l/sqrt(t) for l=1-Ls[elle]/2:Ls[elle]/2] for t in times[elle]][start:finish], magnetizations[elle][bonddim][start:finish], xrange  = (-6,6), xlabel = L\"\\ell/\\sqrt{t}\"\n",
    "    #magnetizations[elle][bonddim][start:finish], xlabel = L\"\\ell\"\n",
    "    , label = lege\n",
    "    , ylabel = L\"<S^z_\\ell>_t\"\n",
    "    , legend = :bottomright\n",
    "    , title = \"L = $(Ls[elle]), bD = $(bDs[bonddim])\"\n",
    ")"
   ]
  },
  {
   "cell_type": "code",
   "execution_count": null,
   "id": "7a2660c2",
   "metadata": {},
   "outputs": [],
   "source": []
  }
 ],
 "metadata": {
  "kernelspec": {
   "display_name": "Julia 1.6.0",
   "language": "julia",
   "name": "julia-1.6"
  },
  "language_info": {
   "file_extension": ".jl",
   "mimetype": "application/julia",
   "name": "julia",
   "version": "1.8.1"
  },
  "toc": {
   "base_numbering": 1,
   "nav_menu": {},
   "number_sections": true,
   "sideBar": true,
   "skip_h1_title": false,
   "title_cell": "Table of Contents",
   "title_sidebar": "Contents",
   "toc_cell": false,
   "toc_position": {
    "height": "calc(100% - 180px)",
    "left": "10px",
    "top": "150px",
    "width": "235.8625030517578px"
   },
   "toc_section_display": true,
   "toc_window_display": true
  }
 },
 "nbformat": 4,
 "nbformat_minor": 5
}
